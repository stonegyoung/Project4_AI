{
 "cells": [
  {
   "cell_type": "code",
   "execution_count": 1,
   "metadata": {},
   "outputs": [
    {
     "name": "stdout",
     "output_type": "stream",
     "text": [
      "Requirement already satisfied: langchain in c:\\project4\\p4\\lib\\site-packages (0.3.3)\n",
      "Requirement already satisfied: langchain-community in c:\\project4\\p4\\lib\\site-packages (0.3.2)\n",
      "Collecting langchain-chroma\n",
      "  Downloading langchain_chroma-0.1.4-py3-none-any.whl (10 kB)\n",
      "Requirement already satisfied: langchain-text-splitters<0.4.0,>=0.3.0 in c:\\project4\\p4\\lib\\site-packages (from langchain) (0.3.0)\n",
      "Requirement already satisfied: langsmith<0.2.0,>=0.1.17 in c:\\project4\\p4\\lib\\site-packages (from langchain) (0.1.135)\n",
      "Requirement already satisfied: tenacity!=8.4.0,<9.0.0,>=8.1.0 in c:\\project4\\p4\\lib\\site-packages (from langchain) (8.5.0)\n",
      "Requirement already satisfied: pydantic<3.0.0,>=2.7.4 in c:\\project4\\p4\\lib\\site-packages (from langchain) (2.9.2)\n",
      "Requirement already satisfied: langchain-core<0.4.0,>=0.3.10 in c:\\project4\\p4\\lib\\site-packages (from langchain) (0.3.10)\n",
      "Requirement already satisfied: numpy<2,>=1 in c:\\project4\\p4\\lib\\site-packages (from langchain) (1.26.4)\n",
      "Requirement already satisfied: aiohttp<4.0.0,>=3.8.3 in c:\\project4\\p4\\lib\\site-packages (from langchain) (3.10.10)\n",
      "Requirement already satisfied: requests<3,>=2 in c:\\project4\\p4\\lib\\site-packages (from langchain) (2.32.3)\n",
      "Requirement already satisfied: PyYAML>=5.3 in c:\\project4\\p4\\lib\\site-packages (from langchain) (6.0.2)\n",
      "Requirement already satisfied: async-timeout<5.0.0,>=4.0.0 in c:\\project4\\p4\\lib\\site-packages (from langchain) (4.0.3)\n",
      "Requirement already satisfied: SQLAlchemy<3,>=1.4 in c:\\project4\\p4\\lib\\site-packages (from langchain) (2.0.35)\n",
      "Requirement already satisfied: dataclasses-json<0.7,>=0.5.7 in c:\\project4\\p4\\lib\\site-packages (from langchain-community) (0.6.7)\n",
      "Requirement already satisfied: pydantic-settings<3.0.0,>=2.4.0 in c:\\project4\\p4\\lib\\site-packages (from langchain-community) (2.5.2)\n",
      "Collecting chromadb!=0.5.4,!=0.5.5,<0.6.0,>=0.4.0\n",
      "  Downloading chromadb-0.5.15-py3-none-any.whl (607 kB)\n",
      "Requirement already satisfied: fastapi<1,>=0.95.2 in c:\\project4\\p4\\lib\\site-packages (from langchain-chroma) (0.115.2)\n",
      "Requirement already satisfied: aiosignal>=1.1.2 in c:\\project4\\p4\\lib\\site-packages (from aiohttp<4.0.0,>=3.8.3->langchain) (1.3.1)\n",
      "Requirement already satisfied: attrs>=17.3.0 in c:\\project4\\p4\\lib\\site-packages (from aiohttp<4.0.0,>=3.8.3->langchain) (24.2.0)\n",
      "Requirement already satisfied: frozenlist>=1.1.1 in c:\\project4\\p4\\lib\\site-packages (from aiohttp<4.0.0,>=3.8.3->langchain) (1.4.1)\n",
      "Requirement already satisfied: yarl<2.0,>=1.12.0 in c:\\project4\\p4\\lib\\site-packages (from aiohttp<4.0.0,>=3.8.3->langchain) (1.15.2)\n",
      "Requirement already satisfied: aiohappyeyeballs>=2.3.0 in c:\\project4\\p4\\lib\\site-packages (from aiohttp<4.0.0,>=3.8.3->langchain) (2.4.3)\n",
      "Requirement already satisfied: multidict<7.0,>=4.5 in c:\\project4\\p4\\lib\\site-packages (from aiohttp<4.0.0,>=3.8.3->langchain) (6.1.0)\n",
      "Collecting build>=1.0.3\n",
      "  Downloading build-1.2.2.post1-py3-none-any.whl (22 kB)\n",
      "Requirement already satisfied: uvicorn[standard]>=0.18.3 in c:\\project4\\p4\\lib\\site-packages (from chromadb!=0.5.4,!=0.5.5,<0.6.0,>=0.4.0->langchain-chroma) (0.32.0)\n",
      "Collecting posthog>=2.4.0\n",
      "  Downloading posthog-3.7.0-py2.py3-none-any.whl (54 kB)\n",
      "Collecting bcrypt>=4.0.1\n",
      "  Downloading bcrypt-4.2.0-cp39-abi3-win_amd64.whl (151 kB)\n",
      "Collecting mmh3>=4.0.1\n",
      "  Downloading mmh3-5.0.1-cp310-cp310-win_amd64.whl (39 kB)\n",
      "Collecting grpcio>=1.58.0\n",
      "  Downloading grpcio-1.67.0-cp310-cp310-win_amd64.whl (4.4 MB)\n",
      "Collecting tokenizers>=0.13.2\n",
      "  Downloading tokenizers-0.20.1-cp310-none-win_amd64.whl (2.4 MB)\n",
      "Requirement already satisfied: tqdm>=4.65.0 in c:\\project4\\p4\\lib\\site-packages (from chromadb!=0.5.4,!=0.5.5,<0.6.0,>=0.4.0->langchain-chroma) (4.66.5)\n",
      "Collecting opentelemetry-sdk>=1.2.0\n",
      "  Downloading opentelemetry_sdk-1.27.0-py3-none-any.whl (110 kB)\n",
      "Requirement already satisfied: httpx>=0.27.0 in c:\\project4\\p4\\lib\\site-packages (from chromadb!=0.5.4,!=0.5.5,<0.6.0,>=0.4.0->langchain-chroma) (0.27.2)\n",
      "Collecting opentelemetry-api>=1.2.0\n",
      "  Downloading opentelemetry_api-1.27.0-py3-none-any.whl (63 kB)\n",
      "Collecting kubernetes>=28.1.0\n",
      "  Downloading kubernetes-31.0.0-py2.py3-none-any.whl (1.9 MB)\n",
      "Collecting onnxruntime>=1.14.1\n",
      "  Using cached onnxruntime-1.19.2-cp310-cp310-win_amd64.whl (11.1 MB)\n",
      "Collecting pypika>=0.48.9\n",
      "  Downloading PyPika-0.48.9.tar.gz (67 kB)\n",
      "  Installing build dependencies: started\n",
      "  Installing build dependencies: finished with status 'done'\n",
      "  Getting requirements to build wheel: started\n",
      "  Getting requirements to build wheel: finished with status 'done'\n",
      "    Preparing wheel metadata: started\n",
      "    Preparing wheel metadata: finished with status 'done'\n",
      "Collecting opentelemetry-exporter-otlp-proto-grpc>=1.2.0\n",
      "  Downloading opentelemetry_exporter_otlp_proto_grpc-1.27.0-py3-none-any.whl (18 kB)\n",
      "Collecting typer>=0.9.0\n",
      "  Using cached typer-0.12.5-py3-none-any.whl (47 kB)\n",
      "Requirement already satisfied: overrides>=7.3.1 in c:\\project4\\p4\\lib\\site-packages (from chromadb!=0.5.4,!=0.5.5,<0.6.0,>=0.4.0->langchain-chroma) (7.7.0)\n",
      "Requirement already satisfied: orjson>=3.9.12 in c:\\project4\\p4\\lib\\site-packages (from chromadb!=0.5.4,!=0.5.5,<0.6.0,>=0.4.0->langchain-chroma) (3.10.7)\n",
      "Requirement already satisfied: typing-extensions>=4.5.0 in c:\\project4\\p4\\lib\\site-packages (from chromadb!=0.5.4,!=0.5.5,<0.6.0,>=0.4.0->langchain-chroma) (4.12.2)\n",
      "Collecting rich>=10.11.0\n",
      "  Using cached rich-13.9.2-py3-none-any.whl (242 kB)\n",
      "Collecting opentelemetry-instrumentation-fastapi>=0.41b0\n",
      "  Downloading opentelemetry_instrumentation_fastapi-0.48b0-py3-none-any.whl (11 kB)\n",
      "Collecting importlib-resources\n",
      "  Using cached importlib_resources-6.4.5-py3-none-any.whl (36 kB)\n",
      "Collecting chroma-hnswlib==0.7.6\n",
      "  Downloading chroma_hnswlib-0.7.6-cp310-cp310-win_amd64.whl (150 kB)\n",
      "Collecting pyproject_hooks\n",
      "  Downloading pyproject_hooks-1.2.0-py3-none-any.whl (10 kB)\n",
      "Requirement already satisfied: tomli>=1.1.0 in c:\\project4\\p4\\lib\\site-packages (from build>=1.0.3->chromadb!=0.5.4,!=0.5.5,<0.6.0,>=0.4.0->langchain-chroma) (2.0.2)\n",
      "Collecting importlib-metadata>=4.6\n",
      "  Using cached importlib_metadata-8.5.0-py3-none-any.whl (26 kB)\n",
      "Requirement already satisfied: packaging>=19.1 in c:\\project4\\p4\\lib\\site-packages (from build>=1.0.3->chromadb!=0.5.4,!=0.5.5,<0.6.0,>=0.4.0->langchain-chroma) (24.1)\n",
      "Requirement already satisfied: colorama in c:\\project4\\p4\\lib\\site-packages (from build>=1.0.3->chromadb!=0.5.4,!=0.5.5,<0.6.0,>=0.4.0->langchain-chroma) (0.4.6)\n",
      "Requirement already satisfied: typing-inspect<1,>=0.4.0 in c:\\project4\\p4\\lib\\site-packages (from dataclasses-json<0.7,>=0.5.7->langchain-community) (0.9.0)\n",
      "Requirement already satisfied: marshmallow<4.0.0,>=3.18.0 in c:\\project4\\p4\\lib\\site-packages (from dataclasses-json<0.7,>=0.5.7->langchain-community) (3.22.0)\n",
      "Requirement already satisfied: starlette<0.41.0,>=0.37.2 in c:\\project4\\p4\\lib\\site-packages (from fastapi<1,>=0.95.2->langchain-chroma) (0.40.0)\n",
      "Requirement already satisfied: certifi in c:\\project4\\p4\\lib\\site-packages (from httpx>=0.27.0->chromadb!=0.5.4,!=0.5.5,<0.6.0,>=0.4.0->langchain-chroma) (2024.8.30)\n",
      "Requirement already satisfied: httpcore==1.* in c:\\project4\\p4\\lib\\site-packages (from httpx>=0.27.0->chromadb!=0.5.4,!=0.5.5,<0.6.0,>=0.4.0->langchain-chroma) (1.0.6)\n",
      "Requirement already satisfied: anyio in c:\\project4\\p4\\lib\\site-packages (from httpx>=0.27.0->chromadb!=0.5.4,!=0.5.5,<0.6.0,>=0.4.0->langchain-chroma) (4.6.2.post1)\n",
      "Requirement already satisfied: sniffio in c:\\project4\\p4\\lib\\site-packages (from httpx>=0.27.0->chromadb!=0.5.4,!=0.5.5,<0.6.0,>=0.4.0->langchain-chroma) (1.3.1)\n",
      "Requirement already satisfied: idna in c:\\project4\\p4\\lib\\site-packages (from httpx>=0.27.0->chromadb!=0.5.4,!=0.5.5,<0.6.0,>=0.4.0->langchain-chroma) (3.10)\n",
      "Requirement already satisfied: h11<0.15,>=0.13 in c:\\project4\\p4\\lib\\site-packages (from httpcore==1.*->httpx>=0.27.0->chromadb!=0.5.4,!=0.5.5,<0.6.0,>=0.4.0->langchain-chroma) (0.14.0)\n",
      "Collecting zipp>=3.20\n",
      "  Using cached zipp-3.20.2-py3-none-any.whl (9.2 kB)\n",
      "Requirement already satisfied: websocket-client!=0.40.0,!=0.41.*,!=0.42.*,>=0.32.0 in c:\\project4\\p4\\lib\\site-packages (from kubernetes>=28.1.0->chromadb!=0.5.4,!=0.5.5,<0.6.0,>=0.4.0->langchain-chroma) (1.8.0)\n",
      "Collecting oauthlib>=3.2.2\n",
      "  Downloading oauthlib-3.2.2-py3-none-any.whl (151 kB)\n",
      "Requirement already satisfied: python-dateutil>=2.5.3 in c:\\project4\\p4\\lib\\site-packages (from kubernetes>=28.1.0->chromadb!=0.5.4,!=0.5.5,<0.6.0,>=0.4.0->langchain-chroma) (2.9.0.post0)\n",
      "Collecting google-auth>=1.0.1\n",
      "  Downloading google_auth-2.35.0-py2.py3-none-any.whl (208 kB)\n",
      "Requirement already satisfied: six>=1.9.0 in c:\\project4\\p4\\lib\\site-packages (from kubernetes>=28.1.0->chromadb!=0.5.4,!=0.5.5,<0.6.0,>=0.4.0->langchain-chroma) (1.16.0)\n",
      "Collecting durationpy>=0.7\n",
      "  Downloading durationpy-0.9-py3-none-any.whl (3.5 kB)\n",
      "Requirement already satisfied: urllib3>=1.24.2 in c:\\project4\\p4\\lib\\site-packages (from kubernetes>=28.1.0->chromadb!=0.5.4,!=0.5.5,<0.6.0,>=0.4.0->langchain-chroma) (2.2.3)\n",
      "Collecting requests-oauthlib\n",
      "  Downloading requests_oauthlib-2.0.0-py2.py3-none-any.whl (24 kB)\n",
      "Collecting pyasn1-modules>=0.2.1\n",
      "  Downloading pyasn1_modules-0.4.1-py3-none-any.whl (181 kB)\n",
      "Collecting rsa<5,>=3.1.4\n",
      "  Downloading rsa-4.9-py3-none-any.whl (34 kB)\n",
      "Collecting cachetools<6.0,>=2.0.0\n",
      "  Downloading cachetools-5.5.0-py3-none-any.whl (9.5 kB)\n",
      "Requirement already satisfied: jsonpatch<2.0,>=1.33 in c:\\project4\\p4\\lib\\site-packages (from langchain-core<0.4.0,>=0.3.10->langchain) (1.33)\n",
      "Requirement already satisfied: jsonpointer>=1.9 in c:\\project4\\p4\\lib\\site-packages (from jsonpatch<2.0,>=1.33->langchain-core<0.4.0,>=0.3.10->langchain) (3.0.0)\n",
      "Requirement already satisfied: requests-toolbelt<2.0.0,>=1.0.0 in c:\\project4\\p4\\lib\\site-packages (from langsmith<0.2.0,>=0.1.17->langchain) (1.0.0)\n",
      "Requirement already satisfied: flatbuffers in c:\\project4\\p4\\lib\\site-packages (from onnxruntime>=1.14.1->chromadb!=0.5.4,!=0.5.5,<0.6.0,>=0.4.0->langchain-chroma) (24.3.25)\n",
      "Collecting coloredlogs\n",
      "  Using cached coloredlogs-15.0.1-py2.py3-none-any.whl (46 kB)\n",
      "Collecting sympy\n",
      "  Using cached sympy-1.13.3-py3-none-any.whl (6.2 MB)\n",
      "Requirement already satisfied: protobuf in c:\\project4\\p4\\lib\\site-packages (from onnxruntime>=1.14.1->chromadb!=0.5.4,!=0.5.5,<0.6.0,>=0.4.0->langchain-chroma) (4.25.5)\n",
      "Collecting deprecated>=1.2.6\n",
      "  Using cached Deprecated-1.2.14-py2.py3-none-any.whl (9.6 kB)\n",
      "Collecting importlib-metadata>=4.6\n",
      "  Using cached importlib_metadata-8.4.0-py3-none-any.whl (26 kB)\n",
      "Collecting wrapt<2,>=1.10\n",
      "  Using cached wrapt-1.16.0-cp310-cp310-win_amd64.whl (37 kB)\n",
      "Collecting googleapis-common-protos~=1.52\n",
      "  Downloading googleapis_common_protos-1.65.0-py2.py3-none-any.whl (220 kB)\n",
      "Collecting opentelemetry-proto==1.27.0\n",
      "  Downloading opentelemetry_proto-1.27.0-py3-none-any.whl (52 kB)\n",
      "Collecting opentelemetry-exporter-otlp-proto-common==1.27.0\n",
      "  Downloading opentelemetry_exporter_otlp_proto_common-1.27.0-py3-none-any.whl (17 kB)\n",
      "Collecting opentelemetry-instrumentation-asgi==0.48b0\n",
      "  Downloading opentelemetry_instrumentation_asgi-0.48b0-py3-none-any.whl (15 kB)\n",
      "Collecting opentelemetry-semantic-conventions==0.48b0\n",
      "  Downloading opentelemetry_semantic_conventions-0.48b0-py3-none-any.whl (149 kB)\n",
      "Collecting opentelemetry-util-http==0.48b0\n",
      "  Downloading opentelemetry_util_http-0.48b0-py3-none-any.whl (6.9 kB)\n",
      "Collecting opentelemetry-instrumentation==0.48b0\n",
      "  Downloading opentelemetry_instrumentation-0.48b0-py3-none-any.whl (29 kB)\n",
      "Requirement already satisfied: setuptools>=16.0 in c:\\project4\\p4\\lib\\site-packages (from opentelemetry-instrumentation==0.48b0->opentelemetry-instrumentation-fastapi>=0.41b0->chromadb!=0.5.4,!=0.5.5,<0.6.0,>=0.4.0->langchain-chroma) (57.4.0)\n",
      "Collecting asgiref~=3.0\n",
      "  Downloading asgiref-3.8.1-py3-none-any.whl (23 kB)\n",
      "Collecting monotonic>=1.5\n",
      "  Downloading monotonic-1.6-py2.py3-none-any.whl (8.2 kB)\n",
      "Collecting backoff>=1.10.0\n",
      "  Downloading backoff-2.2.1-py3-none-any.whl (15 kB)\n",
      "Collecting pyasn1<0.7.0,>=0.4.6\n",
      "  Downloading pyasn1-0.6.1-py3-none-any.whl (83 kB)\n",
      "Requirement already satisfied: pydantic-core==2.23.4 in c:\\project4\\p4\\lib\\site-packages (from pydantic<3.0.0,>=2.7.4->langchain) (2.23.4)\n",
      "Requirement already satisfied: annotated-types>=0.6.0 in c:\\project4\\p4\\lib\\site-packages (from pydantic<3.0.0,>=2.7.4->langchain) (0.7.0)\n",
      "Requirement already satisfied: python-dotenv>=0.21.0 in c:\\project4\\p4\\lib\\site-packages (from pydantic-settings<3.0.0,>=2.4.0->langchain-community) (1.0.1)\n",
      "Requirement already satisfied: charset-normalizer<4,>=2 in c:\\project4\\p4\\lib\\site-packages (from requests<3,>=2->langchain) (3.4.0)\n",
      "Collecting markdown-it-py>=2.2.0\n",
      "  Using cached markdown_it_py-3.0.0-py3-none-any.whl (87 kB)\n",
      "Requirement already satisfied: pygments<3.0.0,>=2.13.0 in c:\\project4\\p4\\lib\\site-packages (from rich>=10.11.0->chromadb!=0.5.4,!=0.5.5,<0.6.0,>=0.4.0->langchain-chroma) (2.18.0)\n",
      "Collecting mdurl~=0.1\n",
      "  Using cached mdurl-0.1.2-py3-none-any.whl (10.0 kB)\n",
      "Requirement already satisfied: greenlet!=0.4.17 in c:\\project4\\p4\\lib\\site-packages (from SQLAlchemy<3,>=1.4->langchain) (3.1.1)\n",
      "Requirement already satisfied: exceptiongroup>=1.0.2 in c:\\project4\\p4\\lib\\site-packages (from anyio->httpx>=0.27.0->chromadb!=0.5.4,!=0.5.5,<0.6.0,>=0.4.0->langchain-chroma) (1.2.2)\n",
      "Collecting huggingface-hub<1.0,>=0.16.4\n",
      "  Using cached huggingface_hub-0.25.2-py3-none-any.whl (436 kB)\n",
      "Collecting fsspec>=2023.5.0\n",
      "  Using cached fsspec-2024.9.0-py3-none-any.whl (179 kB)\n",
      "Collecting filelock\n",
      "  Using cached filelock-3.16.1-py3-none-any.whl (16 kB)\n",
      "Collecting shellingham>=1.3.0\n",
      "  Using cached shellingham-1.5.4-py2.py3-none-any.whl (9.8 kB)\n",
      "Requirement already satisfied: click>=8.0.0 in c:\\project4\\p4\\lib\\site-packages (from typer>=0.9.0->chromadb!=0.5.4,!=0.5.5,<0.6.0,>=0.4.0->langchain-chroma) (8.1.7)\n",
      "Requirement already satisfied: mypy-extensions>=0.3.0 in c:\\project4\\p4\\lib\\site-packages (from typing-inspect<1,>=0.4.0->dataclasses-json<0.7,>=0.5.7->langchain-community) (1.0.0)\n",
      "Collecting websockets>=10.4\n",
      "  Downloading websockets-13.1-cp310-cp310-win_amd64.whl (159 kB)\n",
      "Collecting httptools>=0.5.0\n",
      "  Downloading httptools-0.6.4-cp310-cp310-win_amd64.whl (88 kB)\n",
      "Collecting watchfiles>=0.13\n",
      "  Downloading watchfiles-0.24.0-cp310-none-win_amd64.whl (277 kB)\n",
      "Requirement already satisfied: propcache>=0.2.0 in c:\\project4\\p4\\lib\\site-packages (from yarl<2.0,>=1.12.0->aiohttp<4.0.0,>=3.8.3->langchain) (0.2.0)\n",
      "Collecting humanfriendly>=9.1\n",
      "  Using cached humanfriendly-10.0-py2.py3-none-any.whl (86 kB)\n",
      "Collecting pyreadline3\n",
      "  Using cached pyreadline3-3.5.4-py3-none-any.whl (83 kB)\n",
      "Collecting mpmath<1.4,>=1.1.0\n",
      "  Using cached mpmath-1.3.0-py3-none-any.whl (536 kB)\n",
      "Building wheels for collected packages: pypika\n",
      "  Building wheel for pypika (PEP 517): started\n",
      "  Building wheel for pypika (PEP 517): finished with status 'done'\n",
      "  Created wheel for pypika: filename=PyPika-0.48.9-py2.py3-none-any.whl size=53836 sha256=14cce0866ce98cc8febbf2d3de587c154c279cec41e6e49b8b954b7f0fe467ae\n",
      "  Stored in directory: c:\\users\\admin\\appdata\\local\\pip\\cache\\wheels\\e1\\26\\51\\d0bffb3d2fd82256676d7ad3003faea3bd6dddc9577af665f4\n",
      "Successfully built pypika\n",
      "Installing collected packages: zipp, wrapt, importlib-metadata, deprecated, pyreadline3, pyasn1, opentelemetry-api, mdurl, rsa, pyasn1-modules, opentelemetry-util-http, opentelemetry-semantic-conventions, opentelemetry-proto, opentelemetry-instrumentation, oauthlib, mpmath, markdown-it-py, humanfriendly, fsspec, filelock, cachetools, asgiref, websockets, watchfiles, sympy, shellingham, rich, requests-oauthlib, pyproject-hooks, opentelemetry-sdk, opentelemetry-instrumentation-asgi, opentelemetry-exporter-otlp-proto-common, monotonic, huggingface-hub, httptools, grpcio, googleapis-common-protos, google-auth, durationpy, coloredlogs, backoff, typer, tokenizers, pypika, posthog, opentelemetry-instrumentation-fastapi, opentelemetry-exporter-otlp-proto-grpc, onnxruntime, mmh3, kubernetes, importlib-resources, chroma-hnswlib, build, bcrypt, chromadb, langchain-chroma\n",
      "Successfully installed asgiref-3.8.1 backoff-2.2.1 bcrypt-4.2.0 build-1.2.2.post1 cachetools-5.5.0 chroma-hnswlib-0.7.6 chromadb-0.5.15 coloredlogs-15.0.1 deprecated-1.2.14 durationpy-0.9 filelock-3.16.1 fsspec-2024.9.0 google-auth-2.35.0 googleapis-common-protos-1.65.0 grpcio-1.67.0 httptools-0.6.4 huggingface-hub-0.25.2 humanfriendly-10.0 importlib-metadata-8.4.0 importlib-resources-6.4.5 kubernetes-31.0.0 langchain-chroma-0.1.4 markdown-it-py-3.0.0 mdurl-0.1.2 mmh3-5.0.1 monotonic-1.6 mpmath-1.3.0 oauthlib-3.2.2 onnxruntime-1.19.2 opentelemetry-api-1.27.0 opentelemetry-exporter-otlp-proto-common-1.27.0 opentelemetry-exporter-otlp-proto-grpc-1.27.0 opentelemetry-instrumentation-0.48b0 opentelemetry-instrumentation-asgi-0.48b0 opentelemetry-instrumentation-fastapi-0.48b0 opentelemetry-proto-1.27.0 opentelemetry-sdk-1.27.0 opentelemetry-semantic-conventions-0.48b0 opentelemetry-util-http-0.48b0 posthog-3.7.0 pyasn1-0.6.1 pyasn1-modules-0.4.1 pypika-0.48.9 pyproject-hooks-1.2.0 pyreadline3-3.5.4 requests-oauthlib-2.0.0 rich-13.9.2 rsa-4.9 shellingham-1.5.4 sympy-1.13.3 tokenizers-0.20.1 typer-0.12.5 watchfiles-0.24.0 websockets-13.1 wrapt-1.16.0 zipp-3.20.2\n",
      "Note: you may need to restart the kernel to use updated packages.\n"
     ]
    },
    {
     "name": "stderr",
     "output_type": "stream",
     "text": [
      "WARNING: You are using pip version 21.2.3; however, version 24.2 is available.\n",
      "You should consider upgrading via the 'c:\\project4\\p4\\Scripts\\python.exe -m pip install --upgrade pip' command.\n"
     ]
    }
   ],
   "source": [
    "%pip install --upgrade langchain langchain-community langchain-chroma"
   ]
  },
  {
   "cell_type": "code",
   "execution_count": 16,
   "metadata": {},
   "outputs": [
    {
     "name": "stdout",
     "output_type": "stream",
     "text": [
      "Note: you may need to restart the kernel to use updated packages.\n"
     ]
    },
    {
     "name": "stderr",
     "output_type": "stream",
     "text": [
      "WARNING: You are using pip version 21.2.3; however, version 24.2 is available.\n",
      "You should consider upgrading via the 'c:\\project4\\p4\\Scripts\\python.exe -m pip install --upgrade pip' command.\n"
     ]
    }
   ],
   "source": [
    "pip install -qU langchain-openai"
   ]
  },
  {
   "cell_type": "markdown",
   "metadata": {},
   "source": [
    "# OpenAPI 환경 설정"
   ]
  },
  {
   "cell_type": "code",
   "execution_count": 2,
   "metadata": {},
   "outputs": [],
   "source": [
    "import os\n",
    "from dotenv import load_dotenv"
   ]
  },
  {
   "cell_type": "code",
   "execution_count": 3,
   "metadata": {},
   "outputs": [
    {
     "data": {
      "text/plain": [
       "True"
      ]
     },
     "execution_count": 3,
     "metadata": {},
     "output_type": "execute_result"
    }
   ],
   "source": [
    "load_dotenv()"
   ]
  },
  {
   "cell_type": "markdown",
   "metadata": {},
   "source": [
    "# RAG\n",
    "1. 문서 불러오기\n",
    "2. 쪼개기\n",
    "3. 벡터로 바꾸고 DB에 넣기"
   ]
  },
  {
   "cell_type": "markdown",
   "metadata": {},
   "source": [
    "### 1. PDF 문서 불러오기"
   ]
  },
  {
   "cell_type": "code",
   "execution_count": 4,
   "metadata": {},
   "outputs": [
    {
     "name": "stdout",
     "output_type": "stream",
     "text": [
      "Collecting pypdf\n",
      "  Downloading pypdf-5.0.1-py3-none-any.whl (294 kB)\n",
      "Requirement already satisfied: typing_extensions>=4.0 in c:\\project4\\p4\\lib\\site-packages (from pypdf) (4.12.2)\n",
      "Installing collected packages: pypdf\n",
      "Successfully installed pypdf-5.0.1\n"
     ]
    },
    {
     "name": "stderr",
     "output_type": "stream",
     "text": [
      "WARNING: You are using pip version 21.2.3; however, version 24.2 is available.\n",
      "You should consider upgrading via the 'C:\\project4\\p4\\Scripts\\python.exe -m pip install --upgrade pip' command.\n"
     ]
    }
   ],
   "source": [
    "!pip install pypdf"
   ]
  },
  {
   "cell_type": "code",
   "execution_count": 8,
   "metadata": {},
   "outputs": [
    {
     "name": "stdout",
     "output_type": "stream",
     "text": [
      "<class 'list'>\n"
     ]
    }
   ],
   "source": [
    "from langchain_community.document_loaders import PyPDFLoader\n",
    "\n",
    "loader = PyPDFLoader('C:/project4/chat/해양쓰레기.pdf')\n",
    "docs = loader.load()\n",
    "\n",
    "print(type(docs))"
   ]
  },
  {
   "cell_type": "code",
   "execution_count": 10,
   "metadata": {},
   "outputs": [
    {
     "data": {
      "text/plain": [
       "[Document(metadata={'source': 'C:/project4/해양쓰레기.pdf', 'page': 0}, page_content='[해양쓰레기  소개] \\n해양쓰레기란 ? \\n해양쓰레기란  해양 및 바닷가에  유입, 투기, 방치된  폐기물을  말합니다 . \\n \\n종류 \\n해양쓰레기는  육상에서  발생한  육상 기인 해양쓰레기와  해상에서  발생한  해상 기인 쓰레기가  있\\n습니다 . 육상 기인 쓰레기  종류는  플라스틱 , 음료수  병 등 유리 재질 제품, 비닐봉지 , 스티로폼  음\\n식용기 , 담배 꽁초 등이 있습니다 . 해상 기인 쓰레기  종류는  플라스틱 , 스티로폼  부표, 통발과  그\\n물 밧줄같은  어구, 낚시 용품 등이 있습니다 . \\n  \\n[해양쓰레기  발생원인 ]  \\n일상적인  생활에서  배출되는  쓰레기는  하천과  강을 따라 바다로  들어옵니다 . 특히 장마철  폭우나  \\n태풍이  있을 때 함부로  버려진  길거리  쓰레기 , 망가진  구조물 , 방치된  쓰레기  더미 등이 바다로  \\n이동하게  됩니다 . 부피가  작고 가벼운  것들은  폭우가  아니어도  수시로  바람에  날리거나  배수로를  \\n거쳐 바다로  들어오기도  합니다 . 혹은 해안이나  배에서  직접 바다로  들어옵니다 . \\n해변에  놀러 온 피서객 , 행락객들이  바닷가에  쓰레기를  함부로  버리고  방치하면  파도나  강풍에  \\n휩쓸려  바다로  들어옵니다 . 배에서  바다로  버리는  경우도  많습니다 . 어업용 , 낚시용 , 레저용  선박, \\n상선이나  군함 등 모든 선박에서  무의식적으로  버리는  것들이  곧 해양쓰레기가  됩니다 . 양식 시\\n설이나  어구, 어망 등의 경우, 시설이나  어구를  교체할  때 태풍과  강풍으로  인해 떨어져  나가면서  \\n쓰레기가  되기도  합니다 . \\n \\n[해양쓰레기  현황] \\n국내 해양쓰레기  현황은  매년 바다로  들어오는  해양쓰레기의  총량은  약 12만톤~14만톤으로  추정\\n됩니다 . 육지에서  유입되는  양이 65%, 바다에서  유입되는  양이 35%정도 됩니다 . 육지에서는  홍수 \\n때 하천을  따라 들어오는  양이 제일 많고, 바다에서는  수산업에서  발생한  폐어구가  제일 많이 들\\n어오고  있습니다 . \\n \\n[해양쓰레기  피해 및 위험성 ] \\n육지에서는  플라스틱  쓰레기를  소각·매립하지만 , 해양에서는  자연 작용에  의존하고  있어서  완전히  \\n분해되는데  훨씬 많은 시간이  소요된다 . 더군다나  플라스틱  해양쓰레기는  풍화작용으로  미세플라'),\n",
       " Document(metadata={'source': 'C:/project4/해양쓰레기.pdf', 'page': 1}, page_content='스틱이  되어 해양생태계를  위협하고  바다를  오염시킨다 . 또한 선박사고의  10분의 1은 해양쓰레기\\n때문이고 , 어업 생산성을  떨어뜨립니다 . 또한 바다생물의  서식지를  파괴하고  더 나아가  바다생물\\n을 죽이기까지  합니다 . 떠밀려온  해양쓰레기로  인해 국가간  갈등을  유발하고 , 해양쓰레기  수거/처\\n리에 많은 비용이  들어갑니다 . \\n1. 해양쓰레기로  인한 선박 사고 \\n바다에  버려진  밧줄, 어망이  선박의  추진기에  감기거나 , 비닐봉지가  냉각수  파이프에  빨려 들어가\\n면 엔진에  부하가  걸려 운항을  할 수 없기 때문에  이를 제거해야만  합니다 . 우리나라의  선박사고  \\n원인 중 10분 1은 해양쓰레기가  원인입니다 . \\n2. 해양쓰레기로  인해 어업 생산성  떨어짐  \\n어망에  어획물만이  아니라  쓰레기까지  걸려 올라오는  경우가  자주 발생합니다 . 일일이  골라 내야 \\n하기 때문에  조업이  늦어지거나  어망이  망가져  다시 구입해야  하는 경우도  생깁니다 . 잡은 것을 \\n가공할  때 작은 쓰레기  조각 하나라도  들어가지  않게 하려면  더 많은 작업이  필요합니다 . 해양쓰\\n레기 때문에  어획량  자체가  줄어들기 도 합니다 . \\n3. 해양쓰레기로  인해 바다생물의  피해 \\n바다동물의  목, 다리, 부리, 날개 등에 낚싯줄 , 밧줄, 그물, 풍선줄  등이 걸리면  적을 피하기도 , 먹\\n잇감을  잡을 수도 없어 생존에  큰 지장을  받습니다 . 버려진  어망이나  통발에  의도하지  않았던  생\\n물이 걸려 죽는 문제도  심각합니다 . 매년 바다새가  100만 마리, 고래나  바다표범 , 바다소  등 보호\\n해야 할 해양 포유 동물이  10만 마리나  해양쓰레기에  걸려 죽어가는  것으로  알려져  있습니다 . 비\\n닐봉지 , 플라스틱조 각, 스티로폼  등은 바다생물의  위장에  쌓여 포만감을  주기 때문에  생물들이  먹\\n을 것을 먹지 않아 서서히  죽어가게  만들기도  합니다 . 또한 쓰레기가  해안이나  얕은 바다 밑에 \\n너무 집중적으로  쌓여 생물의  서식지를  아예 덮어버리는  경우가  있습니다 . 그물에  덮여버린  산호\\n초는 더 이상 알과 치어를  보호해  주지 못합니다 . 항포구  주변 바다 밑에 무더기로  가라앉은  해\\n양쓰레기로  인해 바다 밑바닥이  썩고 더 이상생물이  살 수 없게 됩니다 . \\n4. 해양쓰레기로  인한 국가간  갈등 유발 \\n바다로  들어간  쓰레기  중 가벼워서  잘 뜨는 쓰레기는  바람과  해류를  따라 국경을  넘어 이동하곤  \\n합니다 . 중국의  쓰레기가  우리나라로 , 우리나라의  쓰레기는  일본의  북서해안으로 , 일본의  쓰레기\\n는 태평양의  제도, 호주와  아메리카  대륙으로  이동할  수 있습니다 . 외국에서  떠밀려온  쓰레기로  \\n인한 피해지역민원이  국가간  외교현안으로  떠오르기도  합니다 . \\n5. 많은 해양쓰레기  수거 및 처리 비용 \\n일단 바다로  들어간  쓰레기를  수거하고  처리하려면  육지에서  보다 몇 배의 돈이 들어갑니다 . 잠\\n수부를  고용하거나  중장비를  이용해서  수거해야  하고, 처리에  앞서 쓰레기에  달라붙은  담치나  굴, \\n따개비  등을 제거하고  짠 바닷물 , 멜 등도 씻어내야  한다. 때문에  재활용이나  소각, 매립에  어려'),\n",
       " Document(metadata={'source': 'C:/project4/해양쓰레기.pdf', 'page': 2}, page_content='움이 많습니다 . \\n ')]"
      ]
     },
     "execution_count": 10,
     "metadata": {},
     "output_type": "execute_result"
    }
   ],
   "source": [
    "docs"
   ]
  },
  {
   "cell_type": "markdown",
   "metadata": {},
   "source": [
    "### 2. 쪼개기"
   ]
  },
  {
   "cell_type": "code",
   "execution_count": 11,
   "metadata": {},
   "outputs": [],
   "source": [
    "from langchain_text_splitters import RecursiveCharacterTextSplitter\n",
    "\n",
    "text_splitter = RecursiveCharacterTextSplitter(chunk_size=300, chunk_overlap=50)\n",
    "splits = text_splitter.split_documents(docs)"
   ]
  },
  {
   "cell_type": "code",
   "execution_count": 12,
   "metadata": {},
   "outputs": [
    {
     "data": {
      "text/plain": [
       "list"
      ]
     },
     "execution_count": 12,
     "metadata": {},
     "output_type": "execute_result"
    }
   ],
   "source": [
    "type(splits)"
   ]
  },
  {
   "cell_type": "code",
   "execution_count": 13,
   "metadata": {},
   "outputs": [
    {
     "data": {
      "text/plain": [
       "[Document(metadata={'source': 'C:/project4/해양쓰레기.pdf', 'page': 0}, page_content='[해양쓰레기  소개] \\n해양쓰레기란 ? \\n해양쓰레기란  해양 및 바닷가에  유입, 투기, 방치된  폐기물을  말합니다 . \\n \\n종류 \\n해양쓰레기는  육상에서  발생한  육상 기인 해양쓰레기와  해상에서  발생한  해상 기인 쓰레기가  있\\n습니다 . 육상 기인 쓰레기  종류는  플라스틱 , 음료수  병 등 유리 재질 제품, 비닐봉지 , 스티로폼  음\\n식용기 , 담배 꽁초 등이 있습니다 . 해상 기인 쓰레기  종류는  플라스틱 , 스티로폼  부표, 통발과  그\\n물 밧줄같은  어구, 낚시 용품 등이 있습니다 .'),\n",
       " Document(metadata={'source': 'C:/project4/해양쓰레기.pdf', 'page': 0}, page_content='물 밧줄같은  어구, 낚시 용품 등이 있습니다 . \\n  \\n[해양쓰레기  발생원인 ]  \\n일상적인  생활에서  배출되는  쓰레기는  하천과  강을 따라 바다로  들어옵니다 . 특히 장마철  폭우나  \\n태풍이  있을 때 함부로  버려진  길거리  쓰레기 , 망가진  구조물 , 방치된  쓰레기  더미 등이 바다로  \\n이동하게  됩니다 . 부피가  작고 가벼운  것들은  폭우가  아니어도  수시로  바람에  날리거나  배수로를  \\n거쳐 바다로  들어오기도  합니다 . 혹은 해안이나  배에서  직접 바다로  들어옵니다 .'),\n",
       " Document(metadata={'source': 'C:/project4/해양쓰레기.pdf', 'page': 0}, page_content='해변에  놀러 온 피서객 , 행락객들이  바닷가에  쓰레기를  함부로  버리고  방치하면  파도나  강풍에  \\n휩쓸려  바다로  들어옵니다 . 배에서  바다로  버리는  경우도  많습니다 . 어업용 , 낚시용 , 레저용  선박, \\n상선이나  군함 등 모든 선박에서  무의식적으로  버리는  것들이  곧 해양쓰레기가  됩니다 . 양식 시\\n설이나  어구, 어망 등의 경우, 시설이나  어구를  교체할  때 태풍과  강풍으로  인해 떨어져  나가면서  \\n쓰레기가  되기도  합니다 . \\n \\n[해양쓰레기  현황]'),\n",
       " Document(metadata={'source': 'C:/project4/해양쓰레기.pdf', 'page': 0}, page_content='쓰레기가  되기도  합니다 . \\n \\n[해양쓰레기  현황] \\n국내 해양쓰레기  현황은  매년 바다로  들어오는  해양쓰레기의  총량은  약 12만톤~14만톤으로  추정\\n됩니다 . 육지에서  유입되는  양이 65%, 바다에서  유입되는  양이 35%정도 됩니다 . 육지에서는  홍수 \\n때 하천을  따라 들어오는  양이 제일 많고, 바다에서는  수산업에서  발생한  폐어구가  제일 많이 들\\n어오고  있습니다 . \\n \\n[해양쓰레기  피해 및 위험성 ]'),\n",
       " Document(metadata={'source': 'C:/project4/해양쓰레기.pdf', 'page': 0}, page_content='어오고  있습니다 . \\n \\n[해양쓰레기  피해 및 위험성 ] \\n육지에서는  플라스틱  쓰레기를  소각·매립하지만 , 해양에서는  자연 작용에  의존하고  있어서  완전히  \\n분해되는데  훨씬 많은 시간이  소요된다 . 더군다나  플라스틱  해양쓰레기는  풍화작용으로  미세플라'),\n",
       " Document(metadata={'source': 'C:/project4/해양쓰레기.pdf', 'page': 1}, page_content='스틱이  되어 해양생태계를  위협하고  바다를  오염시킨다 . 또한 선박사고의  10분의 1은 해양쓰레기\\n때문이고 , 어업 생산성을  떨어뜨립니다 . 또한 바다생물의  서식지를  파괴하고  더 나아가  바다생물\\n을 죽이기까지  합니다 . 떠밀려온  해양쓰레기로  인해 국가간  갈등을  유발하고 , 해양쓰레기  수거/처\\n리에 많은 비용이  들어갑니다 . \\n1. 해양쓰레기로  인한 선박 사고 \\n바다에  버려진  밧줄, 어망이  선박의  추진기에  감기거나 , 비닐봉지가  냉각수  파이프에  빨려 들어가'),\n",
       " Document(metadata={'source': 'C:/project4/해양쓰레기.pdf', 'page': 1}, page_content='면 엔진에  부하가  걸려 운항을  할 수 없기 때문에  이를 제거해야만  합니다 . 우리나라의  선박사고  \\n원인 중 10분 1은 해양쓰레기가  원인입니다 . \\n2. 해양쓰레기로  인해 어업 생산성  떨어짐  \\n어망에  어획물만이  아니라  쓰레기까지  걸려 올라오는  경우가  자주 발생합니다 . 일일이  골라 내야 \\n하기 때문에  조업이  늦어지거나  어망이  망가져  다시 구입해야  하는 경우도  생깁니다 . 잡은 것을'),\n",
       " Document(metadata={'source': 'C:/project4/해양쓰레기.pdf', 'page': 1}, page_content='가공할  때 작은 쓰레기  조각 하나라도  들어가지  않게 하려면  더 많은 작업이  필요합니다 . 해양쓰\\n레기 때문에  어획량  자체가  줄어들기 도 합니다 . \\n3. 해양쓰레기로  인해 바다생물의  피해 \\n바다동물의  목, 다리, 부리, 날개 등에 낚싯줄 , 밧줄, 그물, 풍선줄  등이 걸리면  적을 피하기도 , 먹\\n잇감을  잡을 수도 없어 생존에  큰 지장을  받습니다 . 버려진  어망이나  통발에  의도하지  않았던  생'),\n",
       " Document(metadata={'source': 'C:/project4/해양쓰레기.pdf', 'page': 1}, page_content='물이 걸려 죽는 문제도  심각합니다 . 매년 바다새가  100만 마리, 고래나  바다표범 , 바다소  등 보호\\n해야 할 해양 포유 동물이  10만 마리나  해양쓰레기에  걸려 죽어가는  것으로  알려져  있습니다 . 비\\n닐봉지 , 플라스틱조 각, 스티로폼  등은 바다생물의  위장에  쌓여 포만감을  주기 때문에  생물들이  먹\\n을 것을 먹지 않아 서서히  죽어가게  만들기도  합니다 . 또한 쓰레기가  해안이나  얕은 바다 밑에'),\n",
       " Document(metadata={'source': 'C:/project4/해양쓰레기.pdf', 'page': 1}, page_content='너무 집중적으로  쌓여 생물의  서식지를  아예 덮어버리는  경우가  있습니다 . 그물에  덮여버린  산호\\n초는 더 이상 알과 치어를  보호해  주지 못합니다 . 항포구  주변 바다 밑에 무더기로  가라앉은  해\\n양쓰레기로  인해 바다 밑바닥이  썩고 더 이상생물이  살 수 없게 됩니다 . \\n4. 해양쓰레기로  인한 국가간  갈등 유발 \\n바다로  들어간  쓰레기  중 가벼워서  잘 뜨는 쓰레기는  바람과  해류를  따라 국경을  넘어 이동하곤'),\n",
       " Document(metadata={'source': 'C:/project4/해양쓰레기.pdf', 'page': 1}, page_content='합니다 . 중국의  쓰레기가  우리나라로 , 우리나라의  쓰레기는  일본의  북서해안으로 , 일본의  쓰레기\\n는 태평양의  제도, 호주와  아메리카  대륙으로  이동할  수 있습니다 . 외국에서  떠밀려온  쓰레기로  \\n인한 피해지역민원이  국가간  외교현안으로  떠오르기도  합니다 . \\n5. 많은 해양쓰레기  수거 및 처리 비용 \\n일단 바다로  들어간  쓰레기를  수거하고  처리하려면  육지에서  보다 몇 배의 돈이 들어갑니다 . 잠'),\n",
       " Document(metadata={'source': 'C:/project4/해양쓰레기.pdf', 'page': 1}, page_content='수부를  고용하거나  중장비를  이용해서  수거해야  하고, 처리에  앞서 쓰레기에  달라붙은  담치나  굴, \\n따개비  등을 제거하고  짠 바닷물 , 멜 등도 씻어내야  한다. 때문에  재활용이나  소각, 매립에  어려'),\n",
       " Document(metadata={'source': 'C:/project4/해양쓰레기.pdf', 'page': 2}, page_content='움이 많습니다 .')]"
      ]
     },
     "execution_count": 13,
     "metadata": {},
     "output_type": "execute_result"
    }
   ],
   "source": [
    "splits"
   ]
  },
  {
   "cell_type": "markdown",
   "metadata": {},
   "source": [
    "### 3. 벡터로 바꾸기"
   ]
  },
  {
   "cell_type": "markdown",
   "metadata": {},
   "source": [
    "#### DB 사용"
   ]
  },
  {
   "cell_type": "code",
   "execution_count": 14,
   "metadata": {},
   "outputs": [],
   "source": [
    "from langchain_chroma import Chroma"
   ]
  },
  {
   "cell_type": "markdown",
   "metadata": {},
   "source": [
    "#### 임베딩을 위한 라이브러리"
   ]
  },
  {
   "cell_type": "code",
   "execution_count": 17,
   "metadata": {},
   "outputs": [],
   "source": [
    "from langchain_openai import OpenAIEmbeddings"
   ]
  },
  {
   "cell_type": "code",
   "execution_count": 19,
   "metadata": {},
   "outputs": [],
   "source": [
    "# 임베딩 벡터를 디비에 저장\n",
    "vectorstore = Chroma.from_documents(documents=splits, embedding=OpenAIEmbeddings(), persist_directory='./chat/testDB')"
   ]
  },
  {
   "cell_type": "markdown",
   "metadata": {},
   "source": [
    "# 유사 벡터 검색하기\n",
    "https://python.langchain.com/docs/tutorials/rag/#retrieval-and-generation-retrieve"
   ]
  },
  {
   "cell_type": "code",
   "execution_count": 26,
   "metadata": {},
   "outputs": [],
   "source": [
    "retriever = vectorstore.as_retriever(search_kwargs={\"k\":3})"
   ]
  },
  {
   "cell_type": "code",
   "execution_count": 27,
   "metadata": {},
   "outputs": [
    {
     "data": {
      "text/plain": [
       "[Document(metadata={'page': 0, 'source': 'C:/project4/해양쓰레기.pdf'}, page_content='[해양쓰레기  소개] \\n해양쓰레기란 ? \\n해양쓰레기란  해양 및 바닷가에  유입, 투기, 방치된  폐기물을  말합니다 . \\n \\n종류 \\n해양쓰레기는  육상에서  발생한  육상 기인 해양쓰레기와  해상에서  발생한  해상 기인 쓰레기가  있\\n습니다 . 육상 기인 쓰레기  종류는  플라스틱 , 음료수  병 등 유리 재질 제품, 비닐봉지 , 스티로폼  음\\n식용기 , 담배 꽁초 등이 있습니다 . 해상 기인 쓰레기  종류는  플라스틱 , 스티로폼  부표, 통발과  그\\n물 밧줄같은  어구, 낚시 용품 등이 있습니다 .'),\n",
       " Document(metadata={'page': 0, 'source': 'C:/project4/해양쓰레기.pdf'}, page_content='쓰레기가  되기도  합니다 . \\n \\n[해양쓰레기  현황] \\n국내 해양쓰레기  현황은  매년 바다로  들어오는  해양쓰레기의  총량은  약 12만톤~14만톤으로  추정\\n됩니다 . 육지에서  유입되는  양이 65%, 바다에서  유입되는  양이 35%정도 됩니다 . 육지에서는  홍수 \\n때 하천을  따라 들어오는  양이 제일 많고, 바다에서는  수산업에서  발생한  폐어구가  제일 많이 들\\n어오고  있습니다 . \\n \\n[해양쓰레기  피해 및 위험성 ]'),\n",
       " Document(metadata={'page': 0, 'source': 'C:/project4/해양쓰레기.pdf'}, page_content='해변에  놀러 온 피서객 , 행락객들이  바닷가에  쓰레기를  함부로  버리고  방치하면  파도나  강풍에  \\n휩쓸려  바다로  들어옵니다 . 배에서  바다로  버리는  경우도  많습니다 . 어업용 , 낚시용 , 레저용  선박, \\n상선이나  군함 등 모든 선박에서  무의식적으로  버리는  것들이  곧 해양쓰레기가  됩니다 . 양식 시\\n설이나  어구, 어망 등의 경우, 시설이나  어구를  교체할  때 태풍과  강풍으로  인해 떨어져  나가면서  \\n쓰레기가  되기도  합니다 . \\n \\n[해양쓰레기  현황]')]"
      ]
     },
     "execution_count": 27,
     "metadata": {},
     "output_type": "execute_result"
    }
   ],
   "source": [
    "# 유사 벡터 검색\n",
    "retriever.get_relevant_documents(\"해양쓰레기가 뭐야?\")"
   ]
  },
  {
   "cell_type": "code",
   "execution_count": 29,
   "metadata": {},
   "outputs": [
    {
     "data": {
      "text/plain": [
       "3"
      ]
     },
     "execution_count": 29,
     "metadata": {},
     "output_type": "execute_result"
    }
   ],
   "source": [
    "retriever_docs = retriever.invoke(\"해양쓰레기가 뭐야?\")\n",
    "len(retriever_docs)"
   ]
  },
  {
   "cell_type": "code",
   "execution_count": 30,
   "metadata": {},
   "outputs": [
    {
     "data": {
      "text/plain": [
       "'[해양쓰레기  소개] \\n해양쓰레기란 ? \\n해양쓰레기란  해양 및 바닷가에  유입, 투기, 방치된  폐기물을  말합니다 . \\n \\n종류 \\n해양쓰레기는  육상에서  발생한  육상 기인 해양쓰레기와  해상에서  발생한  해상 기인 쓰레기가  있\\n습니다 . 육상 기인 쓰레기  종류는  플라스틱 , 음료수  병 등 유리 재질 제품, 비닐봉지 , 스티로폼  음\\n식용기 , 담배 꽁초 등이 있습니다 . 해상 기인 쓰레기  종류는  플라스틱 , 스티로폼  부표, 통발과  그\\n물 밧줄같은  어구, 낚시 용품 등이 있습니다 .'"
      ]
     },
     "execution_count": 30,
     "metadata": {},
     "output_type": "execute_result"
    }
   ],
   "source": [
    "retriever_docs[0].page_content"
   ]
  },
  {
   "cell_type": "markdown",
   "metadata": {},
   "source": [
    "# RAG chain 만들기"
   ]
  },
  {
   "cell_type": "code",
   "execution_count": 46,
   "metadata": {},
   "outputs": [],
   "source": [
    "from langchain.prompts import HumanMessagePromptTemplate, ChatPromptTemplate\n",
    "from langchain.schema import SystemMessage\n",
    "from langchain.chat_models import ChatOpenAI\n",
    "\n",
    "# 모델\n",
    "chatgpt = ChatOpenAI(\n",
    "    model_name=\"gpt-4o-mini\",\n",
    "    temperature = 0.3\n",
    ")\n",
    "\n",
    "# 챗 메세지\n",
    "chat_messages = [\n",
    "    SystemMessage(content='당신은 해양 관련 지식을 가지고 있는 사람입니다. 질문에 대해 100자 내외로 말해주고, 해양과 관련된 이야기가 아니면 대답하지 말아주세요.'),\n",
    "    HumanMessagePromptTemplate.from_template('Context: {context}\\nQuestion: {ques}')\n",
    "]\n",
    "\n",
    "# 챗 프롬프트\n",
    "chat_prompt = ChatPromptTemplate.from_messages(chat_messages)"
   ]
  },
  {
   "cell_type": "code",
   "execution_count": 47,
   "metadata": {},
   "outputs": [
    {
     "data": {
      "text/plain": [
       "ChatPromptTemplate(input_variables=['context', 'ques'], input_types={}, partial_variables={}, messages=[SystemMessage(content='당신은 해양 관련 지식을 가지고 있는 사람입니다. 질문에 대해 100자 내외로 말해주고, 해양과 관련된 이야기가 아니면 대답하지 말아주세요.', additional_kwargs={}, response_metadata={}), HumanMessagePromptTemplate(prompt=PromptTemplate(input_variables=['context', 'ques'], input_types={}, partial_variables={}, template='Context: {context}\\nQuestion: {ques}'), additional_kwargs={})])"
      ]
     },
     "execution_count": 47,
     "metadata": {},
     "output_type": "execute_result"
    }
   ],
   "source": [
    "chat_prompt"
   ]
  },
  {
   "cell_type": "code",
   "execution_count": 48,
   "metadata": {},
   "outputs": [
    {
     "data": {
      "text/plain": [
       "ChatPromptValue(messages=[SystemMessage(content='당신은 해양 관련 지식을 가지고 있는 사람입니다. 질문에 대해 100자 내외로 말해주고, 해양과 관련된 이야기가 아니면 대답하지 말아주세요.', additional_kwargs={}, response_metadata={}), HumanMessage(content='Context: fill context\\nQuestion: fill ques', additional_kwargs={}, response_metadata={})])"
      ]
     },
     "execution_count": 48,
     "metadata": {},
     "output_type": "execute_result"
    }
   ],
   "source": [
    "chat_prompt.invoke({'context': 'fill context', 'ques': 'fill ques'})"
   ]
  },
  {
   "cell_type": "code",
   "execution_count": 49,
   "metadata": {},
   "outputs": [
    {
     "data": {
      "text/plain": [
       "[SystemMessage(content='당신은 해양 관련 지식을 가지고 있는 사람입니다. 질문에 대해 100자 내외로 말해주고, 해양과 관련된 이야기가 아니면 대답하지 말아주세요.', additional_kwargs={}, response_metadata={}),\n",
       " HumanMessage(content='Context: fill context\\nQuestion: fill ques', additional_kwargs={}, response_metadata={})]"
      ]
     },
     "execution_count": 49,
     "metadata": {},
     "output_type": "execute_result"
    }
   ],
   "source": [
    "chat_prompt.invoke({'context': 'fill context', 'ques': 'fill ques'}).to_messages()"
   ]
  },
  {
   "cell_type": "code",
   "execution_count": 50,
   "metadata": {},
   "outputs": [
    {
     "data": {
      "text/plain": [
       "'당신은 해양 관련 지식을 가지고 있는 사람입니다. 질문에 대해 100자 내외로 말해주고, 해양과 관련된 이야기가 아니면 대답하지 말아주세요.'"
      ]
     },
     "execution_count": 50,
     "metadata": {},
     "output_type": "execute_result"
    }
   ],
   "source": [
    "chat_prompt.invoke({'context': 'fill context', 'ques': 'fill ques'}).to_messages()[0].content"
   ]
  },
  {
   "cell_type": "code",
   "execution_count": 51,
   "metadata": {},
   "outputs": [],
   "source": [
    "from langchain_core.output_parsers import StrOutputParser\n",
    "from langchain_core.runnables import RunnablePassthrough\n",
    "\n",
    "def format_docs(docs):\n",
    "    return \"\\n\\n\".join(doc.page_content for doc in docs)\n",
    "\n",
    "\n",
    "# retriever|format_docs -> 질문을 검색기에 전달 후 document 객체 생성 -> page_content만 저장\n",
    "# RunnablePassthrough -> 질문을 그대로 넣는다\n",
    "rag_chain = (\n",
    "    {'context': retriever|format_docs, 'ques': RunnablePassthrough()} # chat_prompt가 갖는 dict\n",
    "    |chat_prompt # 프롬프트\n",
    "    |chatgpt # 모델\n",
    ")"
   ]
  },
  {
   "cell_type": "code",
   "execution_count": 52,
   "metadata": {},
   "outputs": [
    {
     "name": "stdout",
     "output_type": "stream",
     "text": [
      "content='해양쓰레기는 해양 및 바닷가에 유입되거나 방치된 폐기물로, 육상 기인과 해상 기인으로 나뉩니다. 주로 플라스틱, 비닐봉지, 어구 등이 포함됩니다.' additional_kwargs={} response_metadata={'token_usage': {'completion_tokens': 58, 'prompt_tokens': 614, 'total_tokens': 672, 'completion_tokens_details': {'audio_tokens': None, 'reasoning_tokens': 0}, 'prompt_tokens_details': {'audio_tokens': None, 'cached_tokens': 0}}, 'model_name': 'gpt-4o-mini', 'system_fingerprint': 'fp_e2bde53e6e', 'finish_reason': 'stop', 'logprobs': None} id='run-51c8b4fc-706d-445e-8e4a-e58b05b6af48-0'\n"
     ]
    }
   ],
   "source": [
    "res = rag_chain.invoke(\"해양쓰레기가 뭐야?\")\n",
    "print(res)"
   ]
  },
  {
   "cell_type": "code",
   "execution_count": 53,
   "metadata": {},
   "outputs": [
    {
     "name": "stdout",
     "output_type": "stream",
     "text": [
      "해양쓰레기는 선박사고를 유발하고, 어업 생산성을 저하시킵니다. 또한 해양 생물의 서식지를 파괴하고, 국가 간 갈등을 초래하며, 수거 및 처리 비용이 증가하는 등 다양한 부정적인 영향을 미칩니다.\n"
     ]
    }
   ],
   "source": [
    "res = rag_chain.invoke(\"해양쓰레기로 인한 부정적인 영향을 알려줘\")\n",
    "print(res.content)"
   ]
  },
  {
   "cell_type": "code",
   "execution_count": null,
   "metadata": {},
   "outputs": [],
   "source": []
  }
 ],
 "metadata": {
  "kernelspec": {
   "display_name": "p4",
   "language": "python",
   "name": "python3"
  },
  "language_info": {
   "codemirror_mode": {
    "name": "ipython",
    "version": 3
   },
   "file_extension": ".py",
   "mimetype": "text/x-python",
   "name": "python",
   "nbconvert_exporter": "python",
   "pygments_lexer": "ipython3",
   "version": "3.10.0"
  }
 },
 "nbformat": 4,
 "nbformat_minor": 2
}
