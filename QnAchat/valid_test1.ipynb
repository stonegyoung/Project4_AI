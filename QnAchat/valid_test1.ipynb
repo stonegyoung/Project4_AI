{
 "cells": [
  {
   "cell_type": "code",
   "execution_count": 98,
   "metadata": {},
   "outputs": [],
   "source": [
    "from langchain_chroma import Chroma\n",
    "from langchain_openai import OpenAIEmbeddings\n",
    "from langchain_openai import ChatOpenAI\n",
    "from langchain_core.runnables import RunnablePassthrough\n",
    "from langchain_core.prompts.few_shot import FewShotPromptTemplate\n",
    "from langchain_core.prompts import PromptTemplate\n",
    "\n",
    "import numpy as np\n",
    "\n",
    "import re\n",
    "import json"
   ]
  },
  {
   "cell_type": "code",
   "execution_count": 255,
   "metadata": {},
   "outputs": [],
   "source": [
    "from dotenv import load_dotenv\n",
    "load_dotenv()\n",
    "\n",
    "def convert_json(st):\n",
    "    try:\n",
    "        st = re.search(r'\\{.*?\\}', st, re.DOTALL).group(0)\n",
    "        st = json.loads(st)\n",
    "        return st\n",
    "    except:\n",
    "        return False"
   ]
  },
  {
   "cell_type": "code",
   "execution_count": 256,
   "metadata": {},
   "outputs": [],
   "source": [
    "examples = [\n",
    "    # {\n",
    "    #     \"question\": \"염종이 첨성대를 부순 이유로 알맞은것은?\",\n",
    "    #     \"n1\" :\"첨성대가 실제와 달라서\",\n",
    "    #     \"n2\" :\"첨성대가 자꾸 기울어져서\",\n",
    "    #     \"n3\" :\"아랑이 자기 지시대로 만들지 않아서\",\n",
    "    #     \"n4\" :\"아랑이 첨성대를 자기가 만든 것이라고 선덕여양에게 말해 달라고 해서\",\n",
    "    #     \"answer\" :\"4\"\n",
    "    # },\n",
    "    {\n",
    "        \"question\": \"드라마의 특성으로 거리가 먼 것은?\",\n",
    "        \"n1\" :\"장소의 제한을 거의 받지 않는다.\",\n",
    "        \"n2\" :\"음악을 통하여 분위기를 알 수 있다.\",\n",
    "        \"n3\" :\"주로 문자를 통하여 내용이 전달된다.\",\n",
    "        \"n4\" :\"연출가, 작가, 배우 등 여러 사람이 함께 만든다.\",\n",
    "        \"answer\" :\"3\"\n",
    "    },\n",
    "    {\n",
    "        \"question\": \"독도가 대한민국 영토임을 알리는 이유로 알맞은 것은\",\n",
    "        \"n1\": \"독도가 일본 본토와 가깝기 때문이다.\",\n",
    "        \"n2\": \"독도는 중요한 자원이 많아 경제적으로 중요한 지역이다.\",\n",
    "        \"n3\": \"독도가 오랫동안 대한민국의 행정 구역으로 관리되어 왔기 때문이다.\",\n",
    "        \"n4\": \"독도에는 대한민국의 유명한 관광지가 있기 때문이다.\",\n",
    "        \"answer\": \"3\"\n",
    "    },\n",
    "    {\n",
    "        \"question\": \"소설 *소나기*에서 소년이 소녀에게 특별한 감정을 느끼게 된 계기로 거리가 가까운 것은?\",\n",
    "        \"n1\": \"둘이 함께 소나기를 피하면서\",\n",
    "        \"n2\": \"소녀가 소년에게 꽃다발을 주면서\",\n",
    "        \"n3\": \"소년이 소녀의 생일에 선물을 주면서\",\n",
    "        \"n4\": \"소녀가 학교에서 발표를 잘해서\",\n",
    "        \"answer\": \"1\"\n",
    "    }\n",
    "]\n",
    "example_prompt = PromptTemplate.from_template(\n",
    "    \"'문제' : '{question}', 'n1': '{n1}', 'n2': '{n2}', 'n3': '{n3}', 'n4': '{n4}', '정답': '{answer}'\" # examples랑 같아야 함\n",
    ")\n",
    "# print(example_prompt)\n",
    "prompt = FewShotPromptTemplate(\n",
    "    examples=examples,\n",
    "    example_prompt=example_prompt,\n",
    "    prefix = \"당신은 선생님입니다. {context}를 기반으로 정확하게 {theme}에 대한 문제를 하나 만들고 4가지 선다와 정답을 JSON 형식으로 만들어주세요. 정답이 없을 수는 없고, 정답이 아닌 선지는 답과 거리가 멀어야 합니다\",\n",
    "    suffix=\"'ques': '생성된 문제', 'n1': '선택지 1', 'n2': '선택지 2', 'n3': '선택지 3', 'n4': '선택지 4', 'ans': '정답 번호'\",\n",
    "    input_variables=[\"theme\"],\n",
    ")\n",
    "\n",
    "vectorstore = Chroma(embedding_function=OpenAIEmbeddings(), persist_directory='C:/project4/chat/testDB')\n",
    "retriever = vectorstore.as_retriever(search_kwargs={\"k\":3})\n",
    "\n",
    "# page_content만 저장\n",
    "def format_docs(docs):\n",
    "    return \"\\n\\n\".join(doc.page_content for doc in docs)\n",
    "\n",
    "\n",
    "chatgpt = ChatOpenAI(\n",
    "    model_name=\"gpt-4o-mini\",\n",
    "    temperature = 1\n",
    ")\n",
    "\n",
    "rag_chain = (\n",
    "    {'context': retriever|format_docs, 'theme': RunnablePassthrough()} # chat_prompt가 갖는 dict\n",
    "    |prompt # 프롬프트\n",
    "    |chatgpt # 모델\n",
    ")\n",
    "\n",
    "theme_list = [\"해양쓰레기 종류\", \"해양쓰레기 발생원인\", \"해양쓰레기 현황\", \"해양쓰레기 피해 및 위험성\"]\n",
    "n = np.random.randint(0,len(theme_list))\n",
    "ans = rag_chain.invoke(theme_list[n])"
   ]
  },
  {
   "cell_type": "code",
   "execution_count": 257,
   "metadata": {},
   "outputs": [
    {
     "name": "stdout",
     "output_type": "stream",
     "text": [
      "```json\n",
      "{\n",
      "  \"ques\": \"국내 해양쓰레기 중 육지에서 유입되는 비율은 얼마인가?\",\n",
      "  \"n1\": \"50%\",\n",
      "  \"n2\": \"65%\",\n",
      "  \"n3\": \"75%\",\n",
      "  \"n4\": \"40%\",\n",
      "  \"ans\": \"2\"\n",
      "}\n",
      "```\n",
      "{'ques': '국내 해양쓰레기 중 육지에서 유입되는 비율은 얼마인가?', 'n1': '50%', 'n2': '65%', 'n3': '75%', 'n4': '40%', 'ans': '2'}\n"
     ]
    }
   ],
   "source": [
    "print(ans.content)\n",
    "\n",
    "js = convert_json(ans.content)\n",
    "print(js)"
   ]
  },
  {
   "cell_type": "code",
   "execution_count": 283,
   "metadata": {},
   "outputs": [],
   "source": [
    "val_examples = [\n",
    "    {\n",
    "        \"question\":\"해양쓰레기 종류에 대한 설명으로 알맞은 것은?\",\n",
    "        \"n1\": \"해양쓰레기는 육상과 해상 모두에서 발생할 수 있다.\",\n",
    "        \"n2\": \"해양쓰레기는 오직 플라스틱으로만 구성된다.\",\n",
    "        \"n3\": \"해양쓰레기는 바다 생물의 생태계에 직접적인 영향을 미치지 않는다.\",\n",
    "        \"n4\": \"해양쓰레기는 주로 인간의 기호에 따라 생성된다.\",\n",
    "        \"answer\": \"1\",\n",
    "        \"corr_n1\": \"해양쓰레기는 오직 플라스틱으로만 구성된다.\",\n",
    "        \"corr_n2\": \"미세 플라스틱이 해양 생물의 성장과 번식에 영향을 준다.\",\n",
    "        \"corr_n3\": \"해양쓰레기는 바다 생물의 생태계에 직접적인 영향을 미치지 않는다.\",\n",
    "        \"corr_n4\": \"해양쓰레기는 주로 인간의 기호에 따라 생성된다.\",\n",
    "    },\n",
    "    {\n",
    "        \"question\": \"해양쓰레기가 발생하는 주된 원인은 무엇인가?\",\n",
    "        \"n1\": \"하천과 강을 따라 바다로 들어오는 쓰레기\",\n",
    "        \"n2\": \"해양 동물의 생태계를 보호하기 위한 법제정\",\n",
    "        \"n3\": \"태풍이나 폭우로 인해 쓰레기가 바다로 이동\",\n",
    "        \"n4\": \"바다에서 태어나는 새로운 종류의 쓰레기\",\n",
    "        \"answer\": \"1\",\n",
    "        \"corr_n1\": \"하천과 강을 따라 바다로 들어오는 쓰레기\", \n",
    "        \"corr_n2\": \"해양 동물의 생태계를 보호하기 위한 법제정\", \n",
    "        \"corr_n3\": \"멸종 위기 종의 증가\",\n",
    "        \"corr_n4\": \"자원봉사자의 봉사활동\",\n",
    "    }\n",
    "]\n",
    "val_example_prompt = PromptTemplate.from_template(\n",
    "    \"Before valid\\n\"\n",
    "    \"'문제' : '{question}', 'n1': '{n1}', 'n2': '{n2}', 'n3': '{n3}', 'n4': '{n4}', '정답': '{answer}'\"\n",
    "    \"\\nAfter valid\\n\"\n",
    "    \"'문제' : '{question}', 'n1': '{corr_n1}', 'n2': '{corr_n2}', 'n3': '{corr_n3}', 'n4': '{corr_n4}', 'answer': '{answer}'\"\n",
    ")"
   ]
  },
  {
   "cell_type": "code",
   "execution_count": 284,
   "metadata": {},
   "outputs": [
    {
     "data": {
      "text/plain": [
       "\"Before valid\\n'문제' : '해양쓰레기 종류에 대한 설명으로 알맞은 것은?', 'n1': '해양쓰레기는 육상과 해상 모두에서 발생할 수 있다.', 'n2': '해양쓰레기는 오직 플라스틱으로만 구성된다.', 'n3': '해양쓰레기는 바다 생물의 생태계에 직접적인 영향을 미치지 않는다.', 'n4': '해양쓰레기는 주로 인간의 기호에 따라 생성된다.', '정답': '1'\\nAfter valid\\n'문제' : '해양쓰레기 종류에 대한 설명으로 알맞은 것은?', 'n1': '해양쓰레기는 오직 플라스틱으로만 구성된다.', 'n2': '미세 플라스틱이 해양 생물의 성장과 번식에 영향을 준다.', 'n3': '해양쓰레기는 바다 생물의 생태계에 직접적인 영향을 미치지 않는다.', 'n4': '해양쓰레기는 주로 인간의 기호에 따라 생성된다.', 'answer': '1'\""
      ]
     },
     "execution_count": 284,
     "metadata": {},
     "output_type": "execute_result"
    }
   ],
   "source": [
    "val_example_prompt.format(**val_examples[0])"
   ]
  },
  {
   "cell_type": "code",
   "execution_count": 285,
   "metadata": {},
   "outputs": [
    {
     "name": "stdout",
     "output_type": "stream",
     "text": [
      "Before valid\n",
      "'문제' : '해양쓰레기 종류에 대한 설명으로 알맞은 것은?', 'n1': '해양쓰레기는 육상과 해상 모두에서 발생할 수 있다.', 'n2': '해양쓰레기는 오직 플라스틱으로만 구성된다.', 'n3': '해양쓰레기는 바다 생물의 생태계에 직접적인 영향을 미치지 않는다.', 'n4': '해양쓰레기는 주로 인간의 기호에 따라 생성된다.', '정답': '1'\n",
      "After valid\n",
      "'문제' : '해양쓰레기 종류에 대한 설명으로 알맞은 것은?', 'n1': '해양쓰레기는 오직 플라스틱으로만 구성된다.', 'n2': '미세 플라스틱이 해양 생물의 성장과 번식에 영향을 준다.', 'n3': '해양쓰레기는 바다 생물의 생태계에 직접적인 영향을 미치지 않는다.', 'n4': '해양쓰레기는 주로 인간의 기호에 따라 생성된다.', 'answer': '1'\n"
     ]
    }
   ],
   "source": [
    "print(val_example_prompt.format(**val_examples[0]))"
   ]
  },
  {
   "cell_type": "code",
   "execution_count": 336,
   "metadata": {},
   "outputs": [],
   "source": [
    "sf = '''Before valid\n",
    "'문제' : '{ques}', 'n1': '{n1}', 'n2': '{n2}', 'n3': '{n3}', 'n4': '{n4}', '정답': '{ans}'\n",
    "After valid\n",
    "'''\n",
    "\n",
    "valid_prompt = FewShotPromptTemplate(\n",
    "    examples=val_examples,\n",
    "    example_prompt=val_example_prompt,\n",
    "    prefix=\"당신은 다음과 같은 퀴즈를 보고, 문제에 대한 오답 선지가 명확히 오답인지 검증하는 사람입니다. 정답을 제외하고, 오해의 소지가 있는 오답은 명확한 오답으로 변경해서 JSON 형식으로 만들어주세요.\",\n",
    "    suffix= sf,\n",
    "    input_variables=[\"ques\", \"n1\", \"n2\", \"n3\", \"n4\", \"ans\"],\n",
    ")"
   ]
  },
  {
   "cell_type": "code",
   "execution_count": 337,
   "metadata": {},
   "outputs": [
    {
     "data": {
      "text/plain": [
       "{'ques': '국내 해양쓰레기 중 육지에서 유입되는 비율은 얼마인가?',\n",
       " 'n1': '50%',\n",
       " 'n2': '65%',\n",
       " 'n3': '75%',\n",
       " 'n4': '40%',\n",
       " 'ans': '2'}"
      ]
     },
     "execution_count": 337,
     "metadata": {},
     "output_type": "execute_result"
    }
   ],
   "source": [
    "js"
   ]
  },
  {
   "cell_type": "code",
   "execution_count": 338,
   "metadata": {},
   "outputs": [],
   "source": [
    "# js = json.loads(js)"
   ]
  },
  {
   "cell_type": "code",
   "execution_count": 339,
   "metadata": {},
   "outputs": [
    {
     "data": {
      "text/plain": [
       "'국내 해양쓰레기 중 육지에서 유입되는 비율은 얼마인가?'"
      ]
     },
     "execution_count": 339,
     "metadata": {},
     "output_type": "execute_result"
    }
   ],
   "source": [
    "js['ques']"
   ]
  },
  {
   "cell_type": "code",
   "execution_count": 340,
   "metadata": {},
   "outputs": [
    {
     "data": {
      "text/plain": [
       "'50%'"
      ]
     },
     "execution_count": 340,
     "metadata": {},
     "output_type": "execute_result"
    }
   ],
   "source": [
    "js['n1']"
   ]
  },
  {
   "cell_type": "code",
   "execution_count": 341,
   "metadata": {},
   "outputs": [
    {
     "data": {
      "text/plain": [
       "\"당신은 다음과 같은 퀴즈를 보고, 문제에 대한 오답 선지가 명확히 오답인지 검증하는 사람입니다. 정답을 제외하고, 오해의 소지가 있는 오답은 명확한 오답으로 변경해서 JSON 형식으로 만들어주세요.\\n\\nBefore valid\\n'문제' : '해양쓰레기 종류에 대한 설명으로 알맞은 것은?', 'n1': '해양쓰레기는 육상과 해상 모두에서 발생할 수 있다.', 'n2': '해양쓰레기는 오직 플라스틱으로만 구성된다.', 'n3': '해양쓰레기는 바다 생물의 생태계에 직접적인 영향을 미치지 않는다.', 'n4': '해양쓰레기는 주로 인간의 기호에 따라 생성된다.', '정답': '1'\\nAfter valid\\n'문제' : '해양쓰레기 종류에 대한 설명으로 알맞은 것은?', 'n1': '해양쓰레기는 오직 플라스틱으로만 구성된다.', 'n2': '미세 플라스틱이 해양 생물의 성장과 번식에 영향을 준다.', 'n3': '해양쓰레기는 바다 생물의 생태계에 직접적인 영향을 미치지 않는다.', 'n4': '해양쓰레기는 주로 인간의 기호에 따라 생성된다.', 'answer': '1'\\n\\nBefore valid\\n'문제' : '해양쓰레기가 발생하는 주된 원인은 무엇인가?', 'n1': '하천과 강을 따라 바다로 들어오는 쓰레기', 'n2': '해양 동물의 생태계를 보호하기 위한 법제정', 'n3': '태풍이나 폭우로 인해 쓰레기가 바다로 이동', 'n4': '바다에서 태어나는 새로운 종류의 쓰레기', '정답': '1'\\nAfter valid\\n'문제' : '해양쓰레기가 발생하는 주된 원인은 무엇인가?', 'n1': '하천과 강을 따라 바다로 들어오는 쓰레기', 'n2': '해양 동물의 생태계를 보호하기 위한 법제정', 'n3': '멸종 위기 종의 증가', 'n4': '자원봉사자의 봉사활동', 'answer': '1'\\n\\nBefore valid\\n'문제' : '국내 해양쓰레기 중 육지에서 유입되는 비율은 얼마인가?', 'n1': '50%', 'n2': '65%', 'n3': '75%', 'n4': '40%', '정답': '2'\\nAfter valid\\n\""
      ]
     },
     "execution_count": 341,
     "metadata": {},
     "output_type": "execute_result"
    }
   ],
   "source": [
    "valid_prompt.format(ques=js['ques'], n1=js['n1'], n2=js['n2'], n3=js['n3'], n4=js['n4'], ans=js['ans'])"
   ]
  },
  {
   "cell_type": "code",
   "execution_count": null,
   "metadata": {},
   "outputs": [],
   "source": [
    "from langchain_core.runnables import RunnableMap, RunnablePassthrough\n",
    "chain = (\n",
    "    RunnableMap({\n",
    "        'ques': RunnablePassthrough(),\n",
    "        'n1': RunnablePassthrough(),\n",
    "        'n2': RunnablePassthrough(),\n",
    "        'n3': RunnablePassthrough(),\n",
    "        'n4': RunnablePassthrough(),\n",
    "        'ans': RunnablePassthrough(),\n",
    "    })\n",
    "    |valid_prompt | chatgpt \n",
    ")"
   ]
  },
  {
   "cell_type": "code",
   "execution_count": 343,
   "metadata": {},
   "outputs": [
    {
     "name": "stdout",
     "output_type": "stream",
     "text": [
      "content='```json\\n{\\n  \"문제\": \"국내 해양쓰레기 중 육지에서 유입되는 비율은 얼마인가?\",\\n  \"n1\": \"50%\",\\n  \"n2\": \"65%\",\\n  \"n3\": \"75%\",\\n  \"n4\": \"40%\",\\n  \"answer\": \"2\"\\n}\\n```' additional_kwargs={'refusal': None} response_metadata={'token_usage': {'completion_tokens': 71, 'prompt_tokens': 913, 'total_tokens': 984, 'completion_tokens_details': {'audio_tokens': 0, 'reasoning_tokens': 0, 'accepted_prediction_tokens': 0, 'rejected_prediction_tokens': 0}, 'prompt_tokens_details': {'audio_tokens': 0, 'cached_tokens': 0}}, 'model_name': 'gpt-4o-mini-2024-07-18', 'system_fingerprint': 'fp_0ba0d124f1', 'finish_reason': 'stop', 'logprobs': None} id='run-c88c4223-89fd-43c8-a052-79e8aa76b153-0' usage_metadata={'input_tokens': 913, 'output_tokens': 71, 'total_tokens': 984, 'input_token_details': {'audio': 0, 'cache_read': 0}, 'output_token_details': {'audio': 0, 'reasoning': 0}}\n"
     ]
    }
   ],
   "source": [
    "output = chain.invoke(js)\n",
    "print(output)"
   ]
  },
  {
   "cell_type": "code",
   "execution_count": 345,
   "metadata": {},
   "outputs": [
    {
     "name": "stdout",
     "output_type": "stream",
     "text": [
      "```json\n",
      "{\n",
      "  \"문제\": \"국내 해양쓰레기 중 육지에서 유입되는 비율은 얼마인가?\",\n",
      "  \"n1\": \"50%\",\n",
      "  \"n2\": \"65%\",\n",
      "  \"n3\": \"75%\",\n",
      "  \"n4\": \"40%\",\n",
      "  \"answer\": \"2\"\n",
      "}\n",
      "```\n"
     ]
    }
   ],
   "source": [
    "print(output.content)"
   ]
  },
  {
   "cell_type": "code",
   "execution_count": 346,
   "metadata": {},
   "outputs": [
    {
     "data": {
      "text/plain": [
       "{'문제': '국내 해양쓰레기 중 육지에서 유입되는 비율은 얼마인가?',\n",
       " 'n1': '50%',\n",
       " 'n2': '65%',\n",
       " 'n3': '75%',\n",
       " 'n4': '40%',\n",
       " 'answer': '2'}"
      ]
     },
     "execution_count": 346,
     "metadata": {},
     "output_type": "execute_result"
    }
   ],
   "source": [
    "convert_json(output.content)"
   ]
  },
  {
   "cell_type": "code",
   "execution_count": null,
   "metadata": {},
   "outputs": [],
   "source": []
  }
 ],
 "metadata": {
  "kernelspec": {
   "display_name": "p4",
   "language": "python",
   "name": "python3"
  },
  "language_info": {
   "codemirror_mode": {
    "name": "ipython",
    "version": 3
   },
   "file_extension": ".py",
   "mimetype": "text/x-python",
   "name": "python",
   "nbconvert_exporter": "python",
   "pygments_lexer": "ipython3",
   "version": "3.10.0"
  }
 },
 "nbformat": 4,
 "nbformat_minor": 2
}
