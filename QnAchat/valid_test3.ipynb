{
 "cells": [
  {
   "cell_type": "code",
   "execution_count": 17,
   "metadata": {},
   "outputs": [],
   "source": [
    "from dotenv import load_dotenv\n",
    "\n",
    "load_dotenv()\n",
    "\n",
    "from langchain_core.prompts import ChatPromptTemplate\n",
    "from langchain_core.output_parsers import JsonOutputParser\n",
    "from pydantic import BaseModel, Field\n",
    "from langchain_openai import ChatOpenAI\n",
    "\n",
    "from langchain_chroma import Chroma\n",
    "from langchain_openai import OpenAIEmbeddings\n",
    "from langchain_openai import ChatOpenAI\n",
    "from langchain_core.runnables import RunnablePassthrough\n",
    "from langchain_core.prompts.few_shot import FewShotPromptTemplate\n",
    "from langchain_core.prompts import PromptTemplate\n",
    "from langchain_core.runnables import RunnableMap, RunnablePassthrough\n",
    "import random\n",
    "\n",
    "import numpy as np\n"
   ]
  },
  {
   "cell_type": "code",
   "execution_count": 2,
   "metadata": {},
   "outputs": [],
   "source": [
    "# OpenAI 객체를 생성합니다.\n",
    "model = ChatOpenAI(temperature=0, model_name=\"gpt-4o-mini\")"
   ]
  },
  {
   "cell_type": "code",
   "execution_count": 8,
   "metadata": {},
   "outputs": [],
   "source": [
    "# 원하는 데이터 구조를 정의합니다.\n",
    "class Topic(BaseModel):\n",
    "    ques: str = Field(description=\"객관식으로 선택할 수 있는 문제\")\n",
    "    ans: str = Field(description=\"문제에 대한 정답\")"
   ]
  },
  {
   "cell_type": "code",
   "execution_count": 10,
   "metadata": {},
   "outputs": [],
   "source": [
    "vectorstore = Chroma(embedding_function=OpenAIEmbeddings(), persist_directory='C:/project4/chat/testDB')\n",
    "retriever = vectorstore.as_retriever(search_kwargs={\"k\":3})"
   ]
  },
  {
   "cell_type": "code",
   "execution_count": 14,
   "metadata": {},
   "outputs": [],
   "source": [
    "prompt = ChatPromptTemplate.from_messages(\n",
    "    [\n",
    "        (\"system\", \"당신은 선생님입니다. {context}를 기반으로 정확하게 {theme}에 대한 객관식으로 선택할 수 있는 문제와 문제에 대한 정답을 만들어주세요. 문제는 이의 제기가 일어나지 않게 '거리가 가까운 것은?', '거리가 먼 것은?'이라는 형태로 끝나야 합니다.\"),\n",
    "        (\"user\", \"#Format: {format_instructions}\"),\n",
    "    ]\n",
    ")"
   ]
  },
  {
   "cell_type": "code",
   "execution_count": 15,
   "metadata": {},
   "outputs": [
    {
     "data": {
      "text/plain": [
       "ChatPromptTemplate(input_variables=['context', 'theme'], input_types={}, partial_variables={'format_instructions': 'The output should be formatted as a JSON instance that conforms to the JSON schema below.\\n\\nAs an example, for the schema {\"properties\": {\"foo\": {\"title\": \"Foo\", \"description\": \"a list of strings\", \"type\": \"array\", \"items\": {\"type\": \"string\"}}}, \"required\": [\"foo\"]}\\nthe object {\"foo\": [\"bar\", \"baz\"]} is a well-formatted instance of the schema. The object {\"properties\": {\"foo\": [\"bar\", \"baz\"]}} is not well-formatted.\\n\\nHere is the output schema:\\n```\\n{\"properties\": {\"ques\": {\"description\": \"객관식으로 선택할 수 있는 문제\", \"title\": \"Ques\", \"type\": \"string\"}, \"ans\": {\"description\": \"문제에 대한 정답\", \"title\": \"Ans\", \"type\": \"string\"}}, \"required\": [\"ques\", \"ans\"]}\\n```'}, messages=[SystemMessagePromptTemplate(prompt=PromptTemplate(input_variables=['context', 'theme'], input_types={}, partial_variables={}, template=\"당신은 선생님입니다. {context}를 기반으로 정확하게 {theme}에 대한 객관식으로 선택할 수 있는 문제와 문제에 대한 정답을 만들어주세요. 문제는 이의 제기가 일어나지 않게 '거리가 가까운 것은?', '거리가 먼 것은?'이라는 형태로 끝나야 합니다.\"), additional_kwargs={}), HumanMessagePromptTemplate(prompt=PromptTemplate(input_variables=['format_instructions'], input_types={}, partial_variables={}, template='#Format: {format_instructions}'), additional_kwargs={})])"
      ]
     },
     "execution_count": 15,
     "metadata": {},
     "output_type": "execute_result"
    }
   ],
   "source": [
    "# 파서를 설정하고 프롬프트 템플릿에 지시사항을 주입합니다.\n",
    "parser = JsonOutputParser(pydantic_object=Topic)\n",
    "\n",
    "prompt = prompt.partial(format_instructions=parser.get_format_instructions())\n",
    "prompt"
   ]
  },
  {
   "cell_type": "code",
   "execution_count": null,
   "metadata": {},
   "outputs": [],
   "source": [
    "# page_content만 저장\n",
    "def format_docs(docs):\n",
    "    return \"\\n\\n\".join(doc.page_content for doc in docs)\n",
    "\n",
    "\n",
    "chain = (\n",
    "    {'context': retriever|format_docs, 'theme': RunnablePassthrough()} # chat_prompt가 갖는 dict\n",
    "    |prompt | model | parser)  # 체인을 구성합니다."
   ]
  },
  {
   "cell_type": "code",
   "execution_count": 18,
   "metadata": {},
   "outputs": [],
   "source": [
    "theme_list = [\"해양쓰레기 종류\", \"해양쓰레기 발생원인\", \"해양쓰레기 현황\", \"해양쓰레기 피해 및 위험성\"]\n",
    "n = np.random.randint(0,len(theme_list))\n",
    "ans = chain.invoke(theme_list[n])"
   ]
  },
  {
   "cell_type": "code",
   "execution_count": 19,
   "metadata": {},
   "outputs": [
    {
     "data": {
      "text/plain": [
       "{'ques': '해양쓰레기로 인한 피해 중에서 거리가 가까운 것은?', 'ans': '선박사고의 10분의 1은 해양쓰레기 때문입니다.'}"
      ]
     },
     "execution_count": 19,
     "metadata": {},
     "output_type": "execute_result"
    }
   ],
   "source": [
    "ans"
   ]
  },
  {
   "cell_type": "code",
   "execution_count": 38,
   "metadata": {},
   "outputs": [],
   "source": [
    "from langchain_core.output_parsers import CommaSeparatedListOutputParser\n",
    "from langchain_core.prompts import PromptTemplate\n",
    "\n",
    "# 콤마로 구분된 리스트 출력 파서 초기화\n",
    "output_parser = CommaSeparatedListOutputParser()\n",
    "\n",
    "# 출력 형식 지침 가져오기\n",
    "format_instructions = output_parser.get_format_instructions()\n",
    "prompt = PromptTemplate(\n",
    "    template=\"'{ques}' 문제에 대한 오답을 3가지 만들어주세요. 오해의 소지가 있을 문구는 제외하여 오답을 만들주세요. 오답은 '{ans}'와 비슷한 형식으로 만들어주세요.\\n{format_instructions}\",\n",
    "    input_variables=[\"ques\", \"ans\"],\n",
    "    # 부분 변수로 형식 지침 사용\n",
    "    partial_variables={\"format_instructions\": format_instructions},\n",
    ")"
   ]
  },
  {
   "cell_type": "code",
   "execution_count": 39,
   "metadata": {},
   "outputs": [
    {
     "data": {
      "text/plain": [
       "\"'해양쓰레기 종류에 대한 설명으로 알맞은 것은?' 문제에 대한 오답을 3가지 만들어주세요. 오해의 소지가 있을 문구는 제외하여 오답을 만들주세요. 오답은 '해양쓰레기는 육상과 해상 모두에서 발생할 수 있다.'와 비슷한 형식으로 만들어주세요.\\nYour response should be a list of comma separated values, eg: `foo, bar, baz` or `foo,bar,baz`\""
      ]
     },
     "execution_count": 39,
     "metadata": {},
     "output_type": "execute_result"
    }
   ],
   "source": [
    "prompt.format(ques=\"해양쓰레기 종류에 대한 설명으로 알맞은 것은?\", ans=\"해양쓰레기는 육상과 해상 모두에서 발생할 수 있다.\")"
   ]
  },
  {
   "cell_type": "code",
   "execution_count": 40,
   "metadata": {},
   "outputs": [],
   "source": [
    "chain = (\n",
    "    RunnableMap({\n",
    "        'ques': RunnablePassthrough(),\n",
    "        'ans': RunnablePassthrough(),\n",
    "    })\n",
    "    |prompt | model | output_parser\n",
    ")"
   ]
  },
  {
   "cell_type": "code",
   "execution_count": 47,
   "metadata": {},
   "outputs": [],
   "source": [
    "ans = chain.invoke({'ques': '해양쓰레기의 육상 기인 쓰레기가 아닌 것은?', 'ans': '어구와 낚시 용품'})"
   ]
  },
  {
   "cell_type": "code",
   "execution_count": 48,
   "metadata": {},
   "outputs": [
    {
     "data": {
      "text/plain": [
       "[\"{'ques': '해양쓰레기의 육상 기인 쓰레기가 아닌 것은?'\",\n",
       " \"'ans': '플라스틱 병'}\",\n",
       " \"{'ques': '해양쓰레기의 육상 기인 쓰레기가 아닌 것은?'\",\n",
       " \"'ans': '종이컵'}\",\n",
       " \"{'ques': '해양쓰레기의 육상 기인 쓰레기가 아닌 것은?'\",\n",
       " \"'ans': '음료수 캔'}\"]"
      ]
     },
     "execution_count": 48,
     "metadata": {},
     "output_type": "execute_result"
    }
   ],
   "source": [
    "ans"
   ]
  },
  {
   "cell_type": "code",
   "execution_count": 30,
   "metadata": {},
   "outputs": [],
   "source": [
    "ans1 = chain.invoke({\"ques\":\"해양쓰레기 종류에 대한 설명으로 알맞은 것은?\", \"ans\": \"해양쓰레기는 육상과 해상 모두에서 발생할 수 있다.\",})"
   ]
  },
  {
   "cell_type": "code",
   "execution_count": 31,
   "metadata": {},
   "outputs": [
    {
     "data": {
      "text/plain": [
       "[\"{'ques': '해양쓰레기 종류에 대한 설명으로 알맞은 것은?'\",\n",
       " \"'ans': '해양쓰레기는 오직 해상에서만 발생한다.'}\",\n",
       " \"{'ques': '해양쓰레기 종류에 대한 설명으로 알맞은 것은?'\",\n",
       " \"'ans': '해양쓰레기는 주로 플라스틱으로만 구성되어 있다.'}\",\n",
       " \"{'ques': '해양쓰레기 종류에 대한 설명으로 알맞은 것은?'\",\n",
       " \"'ans': '해양쓰레기는 자연적으로 분해되지 않는다.'}\"]"
      ]
     },
     "execution_count": 31,
     "metadata": {},
     "output_type": "execute_result"
    }
   ],
   "source": [
    "ans1"
   ]
  },
  {
   "cell_type": "code",
   "execution_count": null,
   "metadata": {},
   "outputs": [],
   "source": []
  }
 ],
 "metadata": {
  "kernelspec": {
   "display_name": "p4",
   "language": "python",
   "name": "python3"
  },
  "language_info": {
   "codemirror_mode": {
    "name": "ipython",
    "version": 3
   },
   "file_extension": ".py",
   "mimetype": "text/x-python",
   "name": "python",
   "nbconvert_exporter": "python",
   "pygments_lexer": "ipython3",
   "version": "3.10.0"
  }
 },
 "nbformat": 4,
 "nbformat_minor": 2
}
