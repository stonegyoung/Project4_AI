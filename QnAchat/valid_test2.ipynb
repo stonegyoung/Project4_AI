{
 "cells": [
  {
   "cell_type": "code",
   "execution_count": 1,
   "metadata": {},
   "outputs": [],
   "source": [
    "from langchain_chroma import Chroma\n",
    "from langchain_openai import OpenAIEmbeddings\n",
    "from langchain_openai import ChatOpenAI\n",
    "from langchain_core.runnables import RunnablePassthrough\n",
    "from langchain_core.prompts.few_shot import FewShotPromptTemplate\n",
    "from langchain_core.prompts import PromptTemplate\n",
    "from langchain_core.runnables import RunnableMap, RunnablePassthrough\n",
    "\n",
    "import numpy as np\n",
    "\n",
    "import re\n",
    "import json"
   ]
  },
  {
   "cell_type": "code",
   "execution_count": 2,
   "metadata": {},
   "outputs": [
    {
     "data": {
      "text/plain": [
       "True"
      ]
     },
     "execution_count": 2,
     "metadata": {},
     "output_type": "execute_result"
    }
   ],
   "source": [
    "from dotenv import load_dotenv\n",
    "load_dotenv()"
   ]
  },
  {
   "cell_type": "code",
   "execution_count": 3,
   "metadata": {},
   "outputs": [],
   "source": [
    "def convert_json(st):\n",
    "    try:\n",
    "        st = re.search(r'\\{.*?\\}', st, re.DOTALL).group(0)\n",
    "        st = json.loads(st)\n",
    "        return st\n",
    "    except:\n",
    "        return False"
   ]
  },
  {
   "cell_type": "code",
   "execution_count": 8,
   "metadata": {},
   "outputs": [],
   "source": [
    "vectorstore = Chroma(embedding_function=OpenAIEmbeddings(), persist_directory='C:/project4/chat/testDB')\n",
    "retriever = vectorstore.as_retriever(search_kwargs={\"k\":3})\n",
    "\n",
    "# page_content만 저장\n",
    "def format_docs(docs):\n",
    "    return \"\\n\\n\".join(doc.page_content for doc in docs)\n",
    "\n",
    "\n",
    "chatgpt = ChatOpenAI(\n",
    "    model_name=\"gpt-4o-mini\",\n",
    "    temperature = 1\n",
    ")"
   ]
  },
  {
   "cell_type": "code",
   "execution_count": 4,
   "metadata": {},
   "outputs": [],
   "source": [
    "examples = [\n",
    "    {\n",
    "        \"question\": \"드라마의 특성으로 거리가 먼 것은?\",\n",
    "        \"answer\" :\"주로 문자를 통하여 내용이 전달된다.\",\n",
    "    },\n",
    "    {\n",
    "        \"question\": \"독도가 대한민국 영토임을 알리는 이유로 알맞은 것은\",\n",
    "        \"answer\": \"독도가 오랫동안 대한민국의 행정 구역으로 관리되어 왔기 때문이다.\"\n",
    "    },\n",
    "    {\n",
    "        \"question\": \"소설 *소나기*에서 소년이 소녀에게 특별한 감정을 느끼게 된 계기로 거리가 가까운 것은?\",\n",
    "        \"answer\": \"둘이 함께 소나기를 피하면서\"\n",
    "    }\n",
    "]\n",
    "\n",
    "example_prompt = PromptTemplate.from_template(\n",
    "    \"'ques' : '{question}', 'ans': '{answer}'\" # examples랑 같아야 함\n",
    ")"
   ]
  },
  {
   "cell_type": "code",
   "execution_count": 5,
   "metadata": {},
   "outputs": [
    {
     "data": {
      "text/plain": [
       "\"'ques' : '드라마의 특성으로 거리가 먼 것은?', 'ans': '주로 문자를 통하여 내용이 전달된다.'\""
      ]
     },
     "execution_count": 5,
     "metadata": {},
     "output_type": "execute_result"
    }
   ],
   "source": [
    "example_prompt.format(**examples[0])"
   ]
  },
  {
   "cell_type": "code",
   "execution_count": null,
   "metadata": {},
   "outputs": [],
   "source": [
    "prompt = FewShotPromptTemplate(\n",
    "    examples=examples,\n",
    "    example_prompt=example_prompt,\n",
    "    prefix = \"당신은 선생님입니다. {context}를 기반으로 정확하게 {theme}에 대한 객관식으로 선택할 수 있는 문제를 하나 만들고 문제에 대한 정답을 JSON 형식으로 만들어주세요.\",\n",
    "    suffix=\"'ques': '생성된 문제', 'ans': '정답'\",\n",
    "    input_variables=[\"theme\"],\n",
    ")"
   ]
  },
  {
   "cell_type": "code",
   "execution_count": 15,
   "metadata": {},
   "outputs": [],
   "source": [
    "rag_chain = (\n",
    "    {'context': retriever|format_docs, 'theme': RunnablePassthrough()} # chat_prompt가 갖는 dict\n",
    "    |prompt # 프롬프트\n",
    "    |chatgpt # 모델\n",
    ")"
   ]
  },
  {
   "cell_type": "code",
   "execution_count": 16,
   "metadata": {},
   "outputs": [],
   "source": [
    "ans = rag_chain.invoke('해양쓰레기 종류')"
   ]
  },
  {
   "cell_type": "code",
   "execution_count": 17,
   "metadata": {},
   "outputs": [
    {
     "data": {
      "text/plain": [
       "'```json\\n{\\n  \"ques\": \"해양쓰레기의 육상 기인 쓰레기가 아닌 것은?\",\\n  \"ans\": \"어구와 낚시 용품\"\\n}\\n```'"
      ]
     },
     "execution_count": 17,
     "metadata": {},
     "output_type": "execute_result"
    }
   ],
   "source": [
    "ans.content"
   ]
  },
  {
   "cell_type": "code",
   "execution_count": 18,
   "metadata": {},
   "outputs": [],
   "source": [
    "js = convert_json(ans.content)"
   ]
  },
  {
   "cell_type": "code",
   "execution_count": 19,
   "metadata": {},
   "outputs": [
    {
     "data": {
      "text/plain": [
       "{'ques': '해양쓰레기의 육상 기인 쓰레기가 아닌 것은?', 'ans': '어구와 낚시 용품'}"
      ]
     },
     "execution_count": 19,
     "metadata": {},
     "output_type": "execute_result"
    }
   ],
   "source": [
    "js"
   ]
  },
  {
   "cell_type": "code",
   "execution_count": 36,
   "metadata": {},
   "outputs": [],
   "source": [
    "val_examples = [\n",
    "    {\n",
    "        \"question\":\"해양쓰레기 종류에 대한 설명으로 알맞은 것은?\",\n",
    "        \"answer\": \"해양쓰레기는 육상과 해상 모두에서 발생할 수 있다.\",\n",
    "        \"corr_1\": \"해양쓰레기는 오직 플라스틱으로만 구성된다.\",\n",
    "        \"corr_2\": \"해양쓰레기는 바다 생물의 생태계에 직접적인 영향을 미치지 않는다.\",\n",
    "        \"corr_3\": \"해양쓰레기는 모두 수거되어 재활용된다.\",\n",
    "    },\n",
    "    {\n",
    "        \"question\": \"해양쓰레기가 발생하는 주된 원인은 무엇인가?\",\n",
    "        \"answer\": \"하천과 강을 따라 바다로 들어오는 쓰레기\", \n",
    "        \"corr_1\": \"해양 동물의 생태계를 보호하기 위한 법제정\", \n",
    "        \"corr_2\": \"멸종 위기 종의 증가\",\n",
    "        \"corr_3\": \"자원봉사자의 봉사활동\",\n",
    "    }\n",
    "]\n",
    "val_example_prompt = PromptTemplate.from_template(\n",
    "    \"문제: {question}\\n정답: {answer}\\n\"\n",
    "    \"오답: 'wrong1': '{corr_1}', 'wrong2': '{corr_2}', 'wrong3': '{corr_3}'\"\n",
    ")"
   ]
  },
  {
   "cell_type": "code",
   "execution_count": 37,
   "metadata": {},
   "outputs": [
    {
     "data": {
      "text/plain": [
       "\"문제: 해양쓰레기 종류에 대한 설명으로 알맞은 것은?\\n정답: 해양쓰레기는 육상과 해상 모두에서 발생할 수 있다.\\n오답: 'wrong1': '해양쓰레기는 오직 플라스틱으로만 구성된다.', 'wrong2': '해양쓰레기는 바다 생물의 생태계에 직접적인 영향을 미치지 않는다.', 'wrong3': '해양쓰레기는 모두 수거되어 재활용된다.'\""
      ]
     },
     "execution_count": 37,
     "metadata": {},
     "output_type": "execute_result"
    }
   ],
   "source": [
    "val_example_prompt.format(**val_examples[0])"
   ]
  },
  {
   "cell_type": "code",
   "execution_count": 38,
   "metadata": {},
   "outputs": [
    {
     "name": "stdout",
     "output_type": "stream",
     "text": [
      "문제: 해양쓰레기 종류에 대한 설명으로 알맞은 것은?\n",
      "정답: 해양쓰레기는 육상과 해상 모두에서 발생할 수 있다.\n",
      "오답: 'wrong1': '해양쓰레기는 오직 플라스틱으로만 구성된다.', 'wrong2': '해양쓰레기는 바다 생물의 생태계에 직접적인 영향을 미치지 않는다.', 'wrong3': '해양쓰레기는 모두 수거되어 재활용된다.'\n"
     ]
    }
   ],
   "source": [
    "print(val_example_prompt.format(**val_examples[0]))"
   ]
  },
  {
   "cell_type": "code",
   "execution_count": 42,
   "metadata": {},
   "outputs": [],
   "source": [
    "valid_prompt = FewShotPromptTemplate(\n",
    "    examples=val_examples,\n",
    "    example_prompt=val_example_prompt,\n",
    "    prefix=\"당신은 다음의 문제를 보고, 문제에 대한 오답 선지를 만드는 사람입니다. 오해의 소지가 있을 문구는 제외하여 오답을 만들고 JSON 형식으로 만들어주세요.\",\n",
    "    suffix= \"문제: {ques}\\n정답: {ans}\\n오답: \",\n",
    "    input_variables=[\"ques\", \"ans\"],\n",
    ")"
   ]
  },
  {
   "cell_type": "code",
   "execution_count": 43,
   "metadata": {},
   "outputs": [
    {
     "data": {
      "text/plain": [
       "\"당신은 다음의 문제를 보고, 문제에 대한 오답 선지를 만드는 사람입니다. 오해의 소지가 있을 문구는 제외하여 오답을 만들고 JSON 형식으로 만들어주세요.\\n\\n문제: 해양쓰레기 종류에 대한 설명으로 알맞은 것은?\\n정답: 해양쓰레기는 육상과 해상 모두에서 발생할 수 있다.\\n오답: 'wrong1': '해양쓰레기는 오직 플라스틱으로만 구성된다.', 'wrong2': '해양쓰레기는 바다 생물의 생태계에 직접적인 영향을 미치지 않는다.', 'wrong3': '해양쓰레기는 모두 수거되어 재활용된다.'\\n\\n문제: 해양쓰레기가 발생하는 주된 원인은 무엇인가?\\n정답: 하천과 강을 따라 바다로 들어오는 쓰레기\\n오답: 'wrong1': '해양 동물의 생태계를 보호하기 위한 법제정', 'wrong2': '멸종 위기 종의 증가', 'wrong3': '자원봉사자의 봉사활동'\\n\\n문제: 해양쓰레기의 육상 기인 쓰레기가 아닌 것은?\\n정답: 어구와 낚시 용품\\n오답: \""
      ]
     },
     "execution_count": 43,
     "metadata": {},
     "output_type": "execute_result"
    }
   ],
   "source": [
    "valid_prompt.format(ques=js['ques'], ans=js['ans'])"
   ]
  },
  {
   "cell_type": "code",
   "execution_count": 44,
   "metadata": {},
   "outputs": [
    {
     "name": "stdout",
     "output_type": "stream",
     "text": [
      "당신은 다음의 문제를 보고, 문제에 대한 오답 선지를 만드는 사람입니다. 오해의 소지가 있을 문구는 제외하여 오답을 만들고 JSON 형식으로 만들어주세요.\n",
      "\n",
      "문제: 해양쓰레기 종류에 대한 설명으로 알맞은 것은?\n",
      "정답: 해양쓰레기는 육상과 해상 모두에서 발생할 수 있다.\n",
      "오답: 'wrong1': '해양쓰레기는 오직 플라스틱으로만 구성된다.', 'wrong2': '해양쓰레기는 바다 생물의 생태계에 직접적인 영향을 미치지 않는다.', 'wrong3': '해양쓰레기는 모두 수거되어 재활용된다.'\n",
      "\n",
      "문제: 해양쓰레기가 발생하는 주된 원인은 무엇인가?\n",
      "정답: 하천과 강을 따라 바다로 들어오는 쓰레기\n",
      "오답: 'wrong1': '해양 동물의 생태계를 보호하기 위한 법제정', 'wrong2': '멸종 위기 종의 증가', 'wrong3': '자원봉사자의 봉사활동'\n",
      "\n",
      "문제: 해양쓰레기의 육상 기인 쓰레기가 아닌 것은?\n",
      "정답: 어구와 낚시 용품\n",
      "오답: \n"
     ]
    }
   ],
   "source": [
    "print(valid_prompt.format(ques=js['ques'], ans=js['ans']))"
   ]
  },
  {
   "cell_type": "code",
   "execution_count": 45,
   "metadata": {},
   "outputs": [],
   "source": [
    "val_chain = (\n",
    "    RunnableMap({\n",
    "        'ques': RunnablePassthrough(),\n",
    "        'ans': RunnablePassthrough(),\n",
    "    })\n",
    "    |valid_prompt | chatgpt \n",
    ")"
   ]
  },
  {
   "cell_type": "code",
   "execution_count": 46,
   "metadata": {},
   "outputs": [
    {
     "data": {
      "text/plain": [
       "{'ques': '해양쓰레기의 육상 기인 쓰레기가 아닌 것은?', 'ans': '어구와 낚시 용품'}"
      ]
     },
     "execution_count": 46,
     "metadata": {},
     "output_type": "execute_result"
    }
   ],
   "source": [
    "js"
   ]
  },
  {
   "cell_type": "code",
   "execution_count": 47,
   "metadata": {},
   "outputs": [],
   "source": [
    "output = val_chain.invoke(js)"
   ]
  },
  {
   "cell_type": "code",
   "execution_count": 48,
   "metadata": {},
   "outputs": [
    {
     "data": {
      "text/plain": [
       "'```json\\n{\\n  \"wrong1\": \"플라스틱 병\",\\n  \"wrong2\": \"종이컵\",\\n  \"wrong3\": \"음식물 쓰레기\"\\n}\\n```'"
      ]
     },
     "execution_count": 48,
     "metadata": {},
     "output_type": "execute_result"
    }
   ],
   "source": [
    "output.content"
   ]
  },
  {
   "cell_type": "code",
   "execution_count": 49,
   "metadata": {},
   "outputs": [],
   "source": [
    "result = convert_json(output.content)"
   ]
  },
  {
   "cell_type": "code",
   "execution_count": 50,
   "metadata": {},
   "outputs": [
    {
     "data": {
      "text/plain": [
       "{'wrong1': '플라스틱 병', 'wrong2': '종이컵', 'wrong3': '음식물 쓰레기'}"
      ]
     },
     "execution_count": 50,
     "metadata": {},
     "output_type": "execute_result"
    }
   ],
   "source": [
    "result"
   ]
  },
  {
   "cell_type": "code",
   "execution_count": 51,
   "metadata": {},
   "outputs": [],
   "source": [
    "js.update(result)"
   ]
  },
  {
   "cell_type": "code",
   "execution_count": 52,
   "metadata": {},
   "outputs": [
    {
     "data": {
      "text/plain": [
       "{'ques': '해양쓰레기의 육상 기인 쓰레기가 아닌 것은?',\n",
       " 'ans': '어구와 낚시 용품',\n",
       " 'wrong1': '플라스틱 병',\n",
       " 'wrong2': '종이컵',\n",
       " 'wrong3': '음식물 쓰레기'}"
      ]
     },
     "execution_count": 52,
     "metadata": {},
     "output_type": "execute_result"
    }
   ],
   "source": [
    "js"
   ]
  },
  {
   "cell_type": "code",
   "execution_count": 53,
   "metadata": {},
   "outputs": [
    {
     "name": "stdout",
     "output_type": "stream",
     "text": [
      "['플라스틱 병', '종이컵', '어구와 낚시 용품', '음식물 쓰레기']\n"
     ]
    }
   ],
   "source": [
    "import random\n",
    "\n",
    "options = [js['ans'], js['wrong1'], js['wrong2'], js['wrong3']]\n",
    "random.shuffle(options)\n",
    "\n",
    "print(options)"
   ]
  },
  {
   "cell_type": "code",
   "execution_count": 55,
   "metadata": {},
   "outputs": [
    {
     "data": {
      "text/plain": [
       "2"
      ]
     },
     "execution_count": 55,
     "metadata": {},
     "output_type": "execute_result"
    }
   ],
   "source": [
    "options.index(js['ans'])"
   ]
  },
  {
   "cell_type": "code",
   "execution_count": 56,
   "metadata": {},
   "outputs": [],
   "source": [
    "quiz = {\"문제\": js['ques'], \"n1\":options[0], \"n2\":options[1], \"n3\": options[2], \"n4\": options[3], \"정답\": options.index(js['ans'])+1}"
   ]
  },
  {
   "cell_type": "code",
   "execution_count": 59,
   "metadata": {},
   "outputs": [
    {
     "data": {
      "text/plain": [
       "{'문제': '해양쓰레기의 육상 기인 쓰레기가 아닌 것은?',\n",
       " 'n1': '플라스틱 병',\n",
       " 'n2': '종이컵',\n",
       " 'n3': '어구와 낚시 용품',\n",
       " 'n4': '음식물 쓰레기',\n",
       " '정답': 3}"
      ]
     },
     "execution_count": 59,
     "metadata": {},
     "output_type": "execute_result"
    }
   ],
   "source": [
    "quiz"
   ]
  },
  {
   "cell_type": "markdown",
   "metadata": {},
   "source": [
    "# test"
   ]
  },
  {
   "cell_type": "code",
   "execution_count": 61,
   "metadata": {},
   "outputs": [],
   "source": [
    "ans = val_chain.invoke({'ques': '해양쓰레기가 발생하는 주요 원인으로 올바르지 않은 것은?', 'ans': '3'})"
   ]
  },
  {
   "cell_type": "code",
   "execution_count": 62,
   "metadata": {},
   "outputs": [
    {
     "data": {
      "text/plain": [
       "'```json\\n{\\n  \"wrong1\": \"해양쓰레기를 줄이기 위한 국제 협약의 강화\",\\n  \"wrong2\": \"해양 생물의 서식지 보호를 위한 노력\",\\n  \"wrong3\": \"해양 생태계 복원 프로젝트의 진행\"\\n}\\n```'"
      ]
     },
     "execution_count": 62,
     "metadata": {},
     "output_type": "execute_result"
    }
   ],
   "source": [
    "ans.content"
   ]
  },
  {
   "cell_type": "code",
   "execution_count": 63,
   "metadata": {},
   "outputs": [
    {
     "data": {
      "text/plain": [
       "{'wrong1': '해양쓰레기를 줄이기 위한 국제 협약의 강화',\n",
       " 'wrong2': '해양 생물의 서식지 보호를 위한 노력',\n",
       " 'wrong3': '해양 생태계 복원 프로젝트의 진행'}"
      ]
     },
     "execution_count": 63,
     "metadata": {},
     "output_type": "execute_result"
    }
   ],
   "source": [
    "convert_json(ans.content)"
   ]
  },
  {
   "cell_type": "code",
   "execution_count": null,
   "metadata": {},
   "outputs": [],
   "source": []
  }
 ],
 "metadata": {
  "kernelspec": {
   "display_name": "p4",
   "language": "python",
   "name": "python3"
  },
  "language_info": {
   "codemirror_mode": {
    "name": "ipython",
    "version": 3
   },
   "file_extension": ".py",
   "mimetype": "text/x-python",
   "name": "python",
   "nbconvert_exporter": "python",
   "pygments_lexer": "ipython3",
   "version": "3.10.0"
  }
 },
 "nbformat": 4,
 "nbformat_minor": 2
}
